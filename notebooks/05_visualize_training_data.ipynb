{
 "cells": [
  {
   "cell_type": "code",
   "execution_count": 1,
   "metadata": {},
   "outputs": [],
   "source": [
    "%reload_ext autoreload\n",
    "%autoreload 2"
   ]
  },
  {
   "cell_type": "code",
   "execution_count": 2,
   "metadata": {},
   "outputs": [
    {
     "data": {
      "text/html": [
       "<div>\n",
       "<style scoped>\n",
       "    .dataframe tbody tr th:only-of-type {\n",
       "        vertical-align: middle;\n",
       "    }\n",
       "\n",
       "    .dataframe tbody tr th {\n",
       "        vertical-align: top;\n",
       "    }\n",
       "\n",
       "    .dataframe thead th {\n",
       "        text-align: right;\n",
       "    }\n",
       "</style>\n",
       "<table border=\"1\" class=\"dataframe\">\n",
       "  <thead>\n",
       "    <tr style=\"text-align: right;\">\n",
       "      <th></th>\n",
       "      <th>rides_previous_168_hour</th>\n",
       "      <th>rides_previous_167_hour</th>\n",
       "      <th>rides_previous_166_hour</th>\n",
       "      <th>rides_previous_165_hour</th>\n",
       "      <th>rides_previous_164_hour</th>\n",
       "      <th>rides_previous_163_hour</th>\n",
       "      <th>rides_previous_162_hour</th>\n",
       "      <th>rides_previous_161_hour</th>\n",
       "      <th>rides_previous_160_hour</th>\n",
       "      <th>rides_previous_159_hour</th>\n",
       "      <th>...</th>\n",
       "      <th>rides_previous_7_hour</th>\n",
       "      <th>rides_previous_6_hour</th>\n",
       "      <th>rides_previous_5_hour</th>\n",
       "      <th>rides_previous_4_hour</th>\n",
       "      <th>rides_previous_3_hour</th>\n",
       "      <th>rides_previous_2_hour</th>\n",
       "      <th>rides_previous_1_hour</th>\n",
       "      <th>pickup_hour</th>\n",
       "      <th>pickup_location_id</th>\n",
       "      <th>target_rides_next_hour</th>\n",
       "    </tr>\n",
       "  </thead>\n",
       "  <tbody>\n",
       "    <tr>\n",
       "      <th>0</th>\n",
       "      <td>25.0</td>\n",
       "      <td>29.0</td>\n",
       "      <td>34.0</td>\n",
       "      <td>31.0</td>\n",
       "      <td>32.0</td>\n",
       "      <td>8.0</td>\n",
       "      <td>6.0</td>\n",
       "      <td>4.0</td>\n",
       "      <td>0.0</td>\n",
       "      <td>1.0</td>\n",
       "      <td>...</td>\n",
       "      <td>3.0</td>\n",
       "      <td>1.0</td>\n",
       "      <td>0.0</td>\n",
       "      <td>0.0</td>\n",
       "      <td>2.0</td>\n",
       "      <td>1.0</td>\n",
       "      <td>1.0</td>\n",
       "      <td>2024-01-08</td>\n",
       "      <td>4</td>\n",
       "      <td>1.0</td>\n",
       "    </tr>\n",
       "    <tr>\n",
       "      <th>1</th>\n",
       "      <td>1.0</td>\n",
       "      <td>2.0</td>\n",
       "      <td>1.0</td>\n",
       "      <td>0.0</td>\n",
       "      <td>0.0</td>\n",
       "      <td>1.0</td>\n",
       "      <td>0.0</td>\n",
       "      <td>3.0</td>\n",
       "      <td>6.0</td>\n",
       "      <td>3.0</td>\n",
       "      <td>...</td>\n",
       "      <td>1.0</td>\n",
       "      <td>1.0</td>\n",
       "      <td>0.0</td>\n",
       "      <td>3.0</td>\n",
       "      <td>0.0</td>\n",
       "      <td>0.0</td>\n",
       "      <td>4.0</td>\n",
       "      <td>2024-01-09</td>\n",
       "      <td>4</td>\n",
       "      <td>1.0</td>\n",
       "    </tr>\n",
       "    <tr>\n",
       "      <th>2</th>\n",
       "      <td>0.0</td>\n",
       "      <td>0.0</td>\n",
       "      <td>0.0</td>\n",
       "      <td>1.0</td>\n",
       "      <td>0.0</td>\n",
       "      <td>0.0</td>\n",
       "      <td>1.0</td>\n",
       "      <td>2.0</td>\n",
       "      <td>4.0</td>\n",
       "      <td>5.0</td>\n",
       "      <td>...</td>\n",
       "      <td>2.0</td>\n",
       "      <td>9.0</td>\n",
       "      <td>1.0</td>\n",
       "      <td>1.0</td>\n",
       "      <td>4.0</td>\n",
       "      <td>0.0</td>\n",
       "      <td>0.0</td>\n",
       "      <td>2024-01-10</td>\n",
       "      <td>4</td>\n",
       "      <td>0.0</td>\n",
       "    </tr>\n",
       "    <tr>\n",
       "      <th>3</th>\n",
       "      <td>1.0</td>\n",
       "      <td>1.0</td>\n",
       "      <td>2.0</td>\n",
       "      <td>1.0</td>\n",
       "      <td>0.0</td>\n",
       "      <td>1.0</td>\n",
       "      <td>1.0</td>\n",
       "      <td>3.0</td>\n",
       "      <td>2.0</td>\n",
       "      <td>1.0</td>\n",
       "      <td>...</td>\n",
       "      <td>2.0</td>\n",
       "      <td>3.0</td>\n",
       "      <td>1.0</td>\n",
       "      <td>2.0</td>\n",
       "      <td>4.0</td>\n",
       "      <td>3.0</td>\n",
       "      <td>7.0</td>\n",
       "      <td>2024-01-11</td>\n",
       "      <td>4</td>\n",
       "      <td>3.0</td>\n",
       "    </tr>\n",
       "    <tr>\n",
       "      <th>4</th>\n",
       "      <td>2.0</td>\n",
       "      <td>4.0</td>\n",
       "      <td>1.0</td>\n",
       "      <td>1.0</td>\n",
       "      <td>0.0</td>\n",
       "      <td>0.0</td>\n",
       "      <td>0.0</td>\n",
       "      <td>1.0</td>\n",
       "      <td>3.0</td>\n",
       "      <td>1.0</td>\n",
       "      <td>...</td>\n",
       "      <td>2.0</td>\n",
       "      <td>2.0</td>\n",
       "      <td>2.0</td>\n",
       "      <td>1.0</td>\n",
       "      <td>5.0</td>\n",
       "      <td>7.0</td>\n",
       "      <td>2.0</td>\n",
       "      <td>2024-01-12</td>\n",
       "      <td>4</td>\n",
       "      <td>10.0</td>\n",
       "    </tr>\n",
       "  </tbody>\n",
       "</table>\n",
       "<p>5 rows × 171 columns</p>\n",
       "</div>"
      ],
      "text/plain": [
       "   rides_previous_168_hour  rides_previous_167_hour  rides_previous_166_hour  \\\n",
       "0                     25.0                     29.0                     34.0   \n",
       "1                      1.0                      2.0                      1.0   \n",
       "2                      0.0                      0.0                      0.0   \n",
       "3                      1.0                      1.0                      2.0   \n",
       "4                      2.0                      4.0                      1.0   \n",
       "\n",
       "   rides_previous_165_hour  rides_previous_164_hour  rides_previous_163_hour  \\\n",
       "0                     31.0                     32.0                      8.0   \n",
       "1                      0.0                      0.0                      1.0   \n",
       "2                      1.0                      0.0                      0.0   \n",
       "3                      1.0                      0.0                      1.0   \n",
       "4                      1.0                      0.0                      0.0   \n",
       "\n",
       "   rides_previous_162_hour  rides_previous_161_hour  rides_previous_160_hour  \\\n",
       "0                      6.0                      4.0                      0.0   \n",
       "1                      0.0                      3.0                      6.0   \n",
       "2                      1.0                      2.0                      4.0   \n",
       "3                      1.0                      3.0                      2.0   \n",
       "4                      0.0                      1.0                      3.0   \n",
       "\n",
       "   rides_previous_159_hour  ...  rides_previous_7_hour  rides_previous_6_hour  \\\n",
       "0                      1.0  ...                    3.0                    1.0   \n",
       "1                      3.0  ...                    1.0                    1.0   \n",
       "2                      5.0  ...                    2.0                    9.0   \n",
       "3                      1.0  ...                    2.0                    3.0   \n",
       "4                      1.0  ...                    2.0                    2.0   \n",
       "\n",
       "   rides_previous_5_hour  rides_previous_4_hour  rides_previous_3_hour  \\\n",
       "0                    0.0                    0.0                    2.0   \n",
       "1                    0.0                    3.0                    0.0   \n",
       "2                    1.0                    1.0                    4.0   \n",
       "3                    1.0                    2.0                    4.0   \n",
       "4                    2.0                    1.0                    5.0   \n",
       "\n",
       "   rides_previous_2_hour  rides_previous_1_hour  pickup_hour  \\\n",
       "0                    1.0                    1.0   2024-01-08   \n",
       "1                    0.0                    4.0   2024-01-09   \n",
       "2                    0.0                    0.0   2024-01-10   \n",
       "3                    3.0                    7.0   2024-01-11   \n",
       "4                    7.0                    2.0   2024-01-12   \n",
       "\n",
       "   pickup_location_id  target_rides_next_hour  \n",
       "0                   4                     1.0  \n",
       "1                   4                     1.0  \n",
       "2                   4                     0.0  \n",
       "3                   4                     3.0  \n",
       "4                   4                    10.0  \n",
       "\n",
       "[5 rows x 171 columns]"
      ]
     },
     "execution_count": 2,
     "metadata": {},
     "output_type": "execute_result"
    }
   ],
   "source": [
    "import pandas as pd\n",
    "from paths import TRANSFORMED_DATA_DIR\n",
    "\n",
    "features_and_targets = pd.read_parquet(TRANSFORMED_DATA_DIR / \"tabular_data.parquet\")\n",
    "features_and_targets.head()\n"
   ]
  },
  {
   "cell_type": "code",
   "execution_count": 3,
   "metadata": {},
   "outputs": [
    {
     "data": {
      "text/html": [
       "<div>\n",
       "<style scoped>\n",
       "    .dataframe tbody tr th:only-of-type {\n",
       "        vertical-align: middle;\n",
       "    }\n",
       "\n",
       "    .dataframe tbody tr th {\n",
       "        vertical-align: top;\n",
       "    }\n",
       "\n",
       "    .dataframe thead th {\n",
       "        text-align: right;\n",
       "    }\n",
       "</style>\n",
       "<table border=\"1\" class=\"dataframe\">\n",
       "  <thead>\n",
       "    <tr style=\"text-align: right;\">\n",
       "      <th></th>\n",
       "      <th>rides_previous_168_hour</th>\n",
       "      <th>rides_previous_167_hour</th>\n",
       "      <th>rides_previous_166_hour</th>\n",
       "      <th>rides_previous_165_hour</th>\n",
       "      <th>rides_previous_164_hour</th>\n",
       "      <th>rides_previous_163_hour</th>\n",
       "      <th>rides_previous_162_hour</th>\n",
       "      <th>rides_previous_161_hour</th>\n",
       "      <th>rides_previous_160_hour</th>\n",
       "      <th>rides_previous_159_hour</th>\n",
       "      <th>...</th>\n",
       "      <th>rides_previous_8_hour</th>\n",
       "      <th>rides_previous_7_hour</th>\n",
       "      <th>rides_previous_6_hour</th>\n",
       "      <th>rides_previous_5_hour</th>\n",
       "      <th>rides_previous_4_hour</th>\n",
       "      <th>rides_previous_3_hour</th>\n",
       "      <th>rides_previous_2_hour</th>\n",
       "      <th>rides_previous_1_hour</th>\n",
       "      <th>pickup_hour</th>\n",
       "      <th>pickup_location_id</th>\n",
       "    </tr>\n",
       "  </thead>\n",
       "  <tbody>\n",
       "    <tr>\n",
       "      <th>0</th>\n",
       "      <td>25.0</td>\n",
       "      <td>29.0</td>\n",
       "      <td>34.0</td>\n",
       "      <td>31.0</td>\n",
       "      <td>32.0</td>\n",
       "      <td>8.0</td>\n",
       "      <td>6.0</td>\n",
       "      <td>4.0</td>\n",
       "      <td>0.0</td>\n",
       "      <td>1.0</td>\n",
       "      <td>...</td>\n",
       "      <td>1.0</td>\n",
       "      <td>3.0</td>\n",
       "      <td>1.0</td>\n",
       "      <td>0.0</td>\n",
       "      <td>0.0</td>\n",
       "      <td>2.0</td>\n",
       "      <td>1.0</td>\n",
       "      <td>1.0</td>\n",
       "      <td>2024-01-08</td>\n",
       "      <td>4</td>\n",
       "    </tr>\n",
       "    <tr>\n",
       "      <th>1</th>\n",
       "      <td>1.0</td>\n",
       "      <td>2.0</td>\n",
       "      <td>1.0</td>\n",
       "      <td>0.0</td>\n",
       "      <td>0.0</td>\n",
       "      <td>1.0</td>\n",
       "      <td>0.0</td>\n",
       "      <td>3.0</td>\n",
       "      <td>6.0</td>\n",
       "      <td>3.0</td>\n",
       "      <td>...</td>\n",
       "      <td>3.0</td>\n",
       "      <td>1.0</td>\n",
       "      <td>1.0</td>\n",
       "      <td>0.0</td>\n",
       "      <td>3.0</td>\n",
       "      <td>0.0</td>\n",
       "      <td>0.0</td>\n",
       "      <td>4.0</td>\n",
       "      <td>2024-01-09</td>\n",
       "      <td>4</td>\n",
       "    </tr>\n",
       "    <tr>\n",
       "      <th>2</th>\n",
       "      <td>0.0</td>\n",
       "      <td>0.0</td>\n",
       "      <td>0.0</td>\n",
       "      <td>1.0</td>\n",
       "      <td>0.0</td>\n",
       "      <td>0.0</td>\n",
       "      <td>1.0</td>\n",
       "      <td>2.0</td>\n",
       "      <td>4.0</td>\n",
       "      <td>5.0</td>\n",
       "      <td>...</td>\n",
       "      <td>3.0</td>\n",
       "      <td>2.0</td>\n",
       "      <td>9.0</td>\n",
       "      <td>1.0</td>\n",
       "      <td>1.0</td>\n",
       "      <td>4.0</td>\n",
       "      <td>0.0</td>\n",
       "      <td>0.0</td>\n",
       "      <td>2024-01-10</td>\n",
       "      <td>4</td>\n",
       "    </tr>\n",
       "    <tr>\n",
       "      <th>3</th>\n",
       "      <td>1.0</td>\n",
       "      <td>1.0</td>\n",
       "      <td>2.0</td>\n",
       "      <td>1.0</td>\n",
       "      <td>0.0</td>\n",
       "      <td>1.0</td>\n",
       "      <td>1.0</td>\n",
       "      <td>3.0</td>\n",
       "      <td>2.0</td>\n",
       "      <td>1.0</td>\n",
       "      <td>...</td>\n",
       "      <td>3.0</td>\n",
       "      <td>2.0</td>\n",
       "      <td>3.0</td>\n",
       "      <td>1.0</td>\n",
       "      <td>2.0</td>\n",
       "      <td>4.0</td>\n",
       "      <td>3.0</td>\n",
       "      <td>7.0</td>\n",
       "      <td>2024-01-11</td>\n",
       "      <td>4</td>\n",
       "    </tr>\n",
       "    <tr>\n",
       "      <th>4</th>\n",
       "      <td>2.0</td>\n",
       "      <td>4.0</td>\n",
       "      <td>1.0</td>\n",
       "      <td>1.0</td>\n",
       "      <td>0.0</td>\n",
       "      <td>0.0</td>\n",
       "      <td>0.0</td>\n",
       "      <td>1.0</td>\n",
       "      <td>3.0</td>\n",
       "      <td>1.0</td>\n",
       "      <td>...</td>\n",
       "      <td>2.0</td>\n",
       "      <td>2.0</td>\n",
       "      <td>2.0</td>\n",
       "      <td>2.0</td>\n",
       "      <td>1.0</td>\n",
       "      <td>5.0</td>\n",
       "      <td>7.0</td>\n",
       "      <td>2.0</td>\n",
       "      <td>2024-01-12</td>\n",
       "      <td>4</td>\n",
       "    </tr>\n",
       "  </tbody>\n",
       "</table>\n",
       "<p>5 rows × 170 columns</p>\n",
       "</div>"
      ],
      "text/plain": [
       "   rides_previous_168_hour  rides_previous_167_hour  rides_previous_166_hour  \\\n",
       "0                     25.0                     29.0                     34.0   \n",
       "1                      1.0                      2.0                      1.0   \n",
       "2                      0.0                      0.0                      0.0   \n",
       "3                      1.0                      1.0                      2.0   \n",
       "4                      2.0                      4.0                      1.0   \n",
       "\n",
       "   rides_previous_165_hour  rides_previous_164_hour  rides_previous_163_hour  \\\n",
       "0                     31.0                     32.0                      8.0   \n",
       "1                      0.0                      0.0                      1.0   \n",
       "2                      1.0                      0.0                      0.0   \n",
       "3                      1.0                      0.0                      1.0   \n",
       "4                      1.0                      0.0                      0.0   \n",
       "\n",
       "   rides_previous_162_hour  rides_previous_161_hour  rides_previous_160_hour  \\\n",
       "0                      6.0                      4.0                      0.0   \n",
       "1                      0.0                      3.0                      6.0   \n",
       "2                      1.0                      2.0                      4.0   \n",
       "3                      1.0                      3.0                      2.0   \n",
       "4                      0.0                      1.0                      3.0   \n",
       "\n",
       "   rides_previous_159_hour  ...  rides_previous_8_hour  rides_previous_7_hour  \\\n",
       "0                      1.0  ...                    1.0                    3.0   \n",
       "1                      3.0  ...                    3.0                    1.0   \n",
       "2                      5.0  ...                    3.0                    2.0   \n",
       "3                      1.0  ...                    3.0                    2.0   \n",
       "4                      1.0  ...                    2.0                    2.0   \n",
       "\n",
       "   rides_previous_6_hour  rides_previous_5_hour  rides_previous_4_hour  \\\n",
       "0                    1.0                    0.0                    0.0   \n",
       "1                    1.0                    0.0                    3.0   \n",
       "2                    9.0                    1.0                    1.0   \n",
       "3                    3.0                    1.0                    2.0   \n",
       "4                    2.0                    2.0                    1.0   \n",
       "\n",
       "   rides_previous_3_hour  rides_previous_2_hour  rides_previous_1_hour  \\\n",
       "0                    2.0                    1.0                    1.0   \n",
       "1                    0.0                    0.0                    4.0   \n",
       "2                    4.0                    0.0                    0.0   \n",
       "3                    4.0                    3.0                    7.0   \n",
       "4                    5.0                    7.0                    2.0   \n",
       "\n",
       "   pickup_hour  pickup_location_id  \n",
       "0   2024-01-08                   4  \n",
       "1   2024-01-09                   4  \n",
       "2   2024-01-10                   4  \n",
       "3   2024-01-11                   4  \n",
       "4   2024-01-12                   4  \n",
       "\n",
       "[5 rows x 170 columns]"
      ]
     },
     "execution_count": 3,
     "metadata": {},
     "output_type": "execute_result"
    }
   ],
   "source": [
    "features = features_and_targets.drop(columns=[\"target_rides_next_hour\"])\n",
    "targets = features_and_targets[\"target_rides_next_hour\"]\n",
    "\n",
    "features.head()"
   ]
  },
  {
   "cell_type": "code",
   "execution_count": 4,
   "metadata": {},
   "outputs": [
    {
     "data": {
      "text/plain": [
       "0     1.0\n",
       "1     1.0\n",
       "2     0.0\n",
       "3     3.0\n",
       "4    10.0\n",
       "Name: target_rides_next_hour, dtype: float32"
      ]
     },
     "execution_count": 4,
     "metadata": {},
     "output_type": "execute_result"
    }
   ],
   "source": [
    "targets.head()"
   ]
  },
  {
   "cell_type": "code",
   "execution_count": 6,
   "metadata": {},
   "outputs": [
    {
     "name": "stderr",
     "output_type": "stream",
     "text": [
      "/Users/aman/learning/real_world_ml/taxi_demand_predictor/src/plot.py:14: FutureWarning: 'H' is deprecated and will be removed in a future version, please use 'h' instead.\n",
      "  ts_dates = pd.date_range(\n"
     ]
    },
    {
     "name": "stdout",
     "output_type": "stream",
     "text": [
      "title pickup_hour: 2024-01-08 00:00:00 target: 1.0 location_id: 4\n"
     ]
    },
    {
     "data": {
      "application/vnd.plotly.v1+json": {
       "config": {
        "plotlyServerURL": "https://plot.ly"
       },
       "data": [
        {
         "hovertemplate": "x=%{x}<br>y=%{y}<extra></extra>",
         "legendgroup": "",
         "line": {
          "color": "#636efa",
          "dash": "solid"
         },
         "marker": {
          "symbol": "circle"
         },
         "mode": "lines+markers",
         "name": "",
         "orientation": "v",
         "showlegend": false,
         "type": "scatter",
         "x": [
          "2024-01-01T00:00:00.000000000",
          "2024-01-01T01:00:00.000000000",
          "2024-01-01T02:00:00.000000000",
          "2024-01-01T03:00:00.000000000",
          "2024-01-01T04:00:00.000000000",
          "2024-01-01T05:00:00.000000000",
          "2024-01-01T06:00:00.000000000",
          "2024-01-01T07:00:00.000000000",
          "2024-01-01T08:00:00.000000000",
          "2024-01-01T09:00:00.000000000",
          "2024-01-01T10:00:00.000000000",
          "2024-01-01T11:00:00.000000000",
          "2024-01-01T12:00:00.000000000",
          "2024-01-01T13:00:00.000000000",
          "2024-01-01T14:00:00.000000000",
          "2024-01-01T15:00:00.000000000",
          "2024-01-01T16:00:00.000000000",
          "2024-01-01T17:00:00.000000000",
          "2024-01-01T18:00:00.000000000",
          "2024-01-01T19:00:00.000000000",
          "2024-01-01T20:00:00.000000000",
          "2024-01-01T21:00:00.000000000",
          "2024-01-01T22:00:00.000000000",
          "2024-01-01T23:00:00.000000000",
          "2024-01-02T00:00:00.000000000",
          "2024-01-02T01:00:00.000000000",
          "2024-01-02T02:00:00.000000000",
          "2024-01-02T03:00:00.000000000",
          "2024-01-02T04:00:00.000000000",
          "2024-01-02T05:00:00.000000000",
          "2024-01-02T06:00:00.000000000",
          "2024-01-02T07:00:00.000000000",
          "2024-01-02T08:00:00.000000000",
          "2024-01-02T09:00:00.000000000",
          "2024-01-02T10:00:00.000000000",
          "2024-01-02T11:00:00.000000000",
          "2024-01-02T12:00:00.000000000",
          "2024-01-02T13:00:00.000000000",
          "2024-01-02T14:00:00.000000000",
          "2024-01-02T15:00:00.000000000",
          "2024-01-02T16:00:00.000000000",
          "2024-01-02T17:00:00.000000000",
          "2024-01-02T18:00:00.000000000",
          "2024-01-02T19:00:00.000000000",
          "2024-01-02T20:00:00.000000000",
          "2024-01-02T21:00:00.000000000",
          "2024-01-02T22:00:00.000000000",
          "2024-01-02T23:00:00.000000000",
          "2024-01-03T00:00:00.000000000",
          "2024-01-03T01:00:00.000000000",
          "2024-01-03T02:00:00.000000000",
          "2024-01-03T03:00:00.000000000",
          "2024-01-03T04:00:00.000000000",
          "2024-01-03T05:00:00.000000000",
          "2024-01-03T06:00:00.000000000",
          "2024-01-03T07:00:00.000000000",
          "2024-01-03T08:00:00.000000000",
          "2024-01-03T09:00:00.000000000",
          "2024-01-03T10:00:00.000000000",
          "2024-01-03T11:00:00.000000000",
          "2024-01-03T12:00:00.000000000",
          "2024-01-03T13:00:00.000000000",
          "2024-01-03T14:00:00.000000000",
          "2024-01-03T15:00:00.000000000",
          "2024-01-03T16:00:00.000000000",
          "2024-01-03T17:00:00.000000000",
          "2024-01-03T18:00:00.000000000",
          "2024-01-03T19:00:00.000000000",
          "2024-01-03T20:00:00.000000000",
          "2024-01-03T21:00:00.000000000",
          "2024-01-03T22:00:00.000000000",
          "2024-01-03T23:00:00.000000000",
          "2024-01-04T00:00:00.000000000",
          "2024-01-04T01:00:00.000000000",
          "2024-01-04T02:00:00.000000000",
          "2024-01-04T03:00:00.000000000",
          "2024-01-04T04:00:00.000000000",
          "2024-01-04T05:00:00.000000000",
          "2024-01-04T06:00:00.000000000",
          "2024-01-04T07:00:00.000000000",
          "2024-01-04T08:00:00.000000000",
          "2024-01-04T09:00:00.000000000",
          "2024-01-04T10:00:00.000000000",
          "2024-01-04T11:00:00.000000000",
          "2024-01-04T12:00:00.000000000",
          "2024-01-04T13:00:00.000000000",
          "2024-01-04T14:00:00.000000000",
          "2024-01-04T15:00:00.000000000",
          "2024-01-04T16:00:00.000000000",
          "2024-01-04T17:00:00.000000000",
          "2024-01-04T18:00:00.000000000",
          "2024-01-04T19:00:00.000000000",
          "2024-01-04T20:00:00.000000000",
          "2024-01-04T21:00:00.000000000",
          "2024-01-04T22:00:00.000000000",
          "2024-01-04T23:00:00.000000000",
          "2024-01-05T00:00:00.000000000",
          "2024-01-05T01:00:00.000000000",
          "2024-01-05T02:00:00.000000000",
          "2024-01-05T03:00:00.000000000",
          "2024-01-05T04:00:00.000000000",
          "2024-01-05T05:00:00.000000000",
          "2024-01-05T06:00:00.000000000",
          "2024-01-05T07:00:00.000000000",
          "2024-01-05T08:00:00.000000000",
          "2024-01-05T09:00:00.000000000",
          "2024-01-05T10:00:00.000000000",
          "2024-01-05T11:00:00.000000000",
          "2024-01-05T12:00:00.000000000",
          "2024-01-05T13:00:00.000000000",
          "2024-01-05T14:00:00.000000000",
          "2024-01-05T15:00:00.000000000",
          "2024-01-05T16:00:00.000000000",
          "2024-01-05T17:00:00.000000000",
          "2024-01-05T18:00:00.000000000",
          "2024-01-05T19:00:00.000000000",
          "2024-01-05T20:00:00.000000000",
          "2024-01-05T21:00:00.000000000",
          "2024-01-05T22:00:00.000000000",
          "2024-01-05T23:00:00.000000000",
          "2024-01-06T00:00:00.000000000",
          "2024-01-06T01:00:00.000000000",
          "2024-01-06T02:00:00.000000000",
          "2024-01-06T03:00:00.000000000",
          "2024-01-06T04:00:00.000000000",
          "2024-01-06T05:00:00.000000000",
          "2024-01-06T06:00:00.000000000",
          "2024-01-06T07:00:00.000000000",
          "2024-01-06T08:00:00.000000000",
          "2024-01-06T09:00:00.000000000",
          "2024-01-06T10:00:00.000000000",
          "2024-01-06T11:00:00.000000000",
          "2024-01-06T12:00:00.000000000",
          "2024-01-06T13:00:00.000000000",
          "2024-01-06T14:00:00.000000000",
          "2024-01-06T15:00:00.000000000",
          "2024-01-06T16:00:00.000000000",
          "2024-01-06T17:00:00.000000000",
          "2024-01-06T18:00:00.000000000",
          "2024-01-06T19:00:00.000000000",
          "2024-01-06T20:00:00.000000000",
          "2024-01-06T21:00:00.000000000",
          "2024-01-06T22:00:00.000000000",
          "2024-01-06T23:00:00.000000000",
          "2024-01-07T00:00:00.000000000",
          "2024-01-07T01:00:00.000000000",
          "2024-01-07T02:00:00.000000000",
          "2024-01-07T03:00:00.000000000",
          "2024-01-07T04:00:00.000000000",
          "2024-01-07T05:00:00.000000000",
          "2024-01-07T06:00:00.000000000",
          "2024-01-07T07:00:00.000000000",
          "2024-01-07T08:00:00.000000000",
          "2024-01-07T09:00:00.000000000",
          "2024-01-07T10:00:00.000000000",
          "2024-01-07T11:00:00.000000000",
          "2024-01-07T12:00:00.000000000",
          "2024-01-07T13:00:00.000000000",
          "2024-01-07T14:00:00.000000000",
          "2024-01-07T15:00:00.000000000",
          "2024-01-07T16:00:00.000000000",
          "2024-01-07T17:00:00.000000000",
          "2024-01-07T18:00:00.000000000",
          "2024-01-07T19:00:00.000000000",
          "2024-01-07T20:00:00.000000000",
          "2024-01-07T21:00:00.000000000",
          "2024-01-07T22:00:00.000000000",
          "2024-01-07T23:00:00.000000000",
          "2024-01-08T00:00:00.000000000"
         ],
         "xaxis": "x",
         "y": {
          "bdata": "AADIQQAA6EEAAAhCAAD4QQAAAEIAAABBAADAQAAAgEAAAAAAAACAPwAAQEAAAKBAAACgQAAAgD8AAMBAAACAQAAAAAAAAABAAACAPwAAAEAAAABAAACgQAAAgD8AAAAAAACAPwAAAEAAAIA/AAAAAAAAAAAAAIA/AAAAAAAAQEAAAMBAAABAQAAAgEAAAAAAAAAAQAAAAEAAAEBAAACAPwAAAAAAAEBAAACAPwAAAEAAAIA/AAAAAAAAwEAAAAAAAAAAAAAAAAAAAAAAAACAPwAAAAAAAAAAAACAPwAAAEAAAIBAAACgQAAAAEAAAABAAAAAQAAAAEAAAIA/AABAQAAAgD8AAABAAACAQAAAAAAAAABAAACAPwAAgD8AAIA/AACAPwAAgD8AAABAAACAPwAAAAAAAIA/AACAPwAAQEAAAABAAACAPwAAgEAAAAAAAAAAQAAAAEAAAKBAAABAQAAAAEAAAEBAAAAAQAAAAEAAAIBAAADAQAAAAEAAAOBAAAAAQAAAgEAAAIA/AACAPwAAAAAAAAAAAAAAAAAAgD8AAEBAAACAPwAAQEAAAABAAAAAQAAAAAAAAAAAAADgQAAAQEAAAIBAAACAQAAAwEAAAABAAACgQAAAAEAAACBBAACYQQAAuEEAAMhBAAAAQQAAAEAAAAAAAACAPwAAAAAAAEBAAAAAQAAAAEAAAABAAAAAQAAAQEAAAKBAAAAAAAAAwEAAAABAAACAQAAAoEAAAKBAAACgQAAAwEAAAHBBAADwQQAA0EEAAEBBAAAgQQAAAAAAAAAAAAAAAAAAgD8AAAAAAACAPwAAAEAAAEBAAACAPwAAAAAAAAAAAADAQAAAgD8AAEBAAACAPwAAAAAAAAAAAAAAQAAAgD8AAIA/AACAPw==",
          "dtype": "f4"
         },
         "yaxis": "y"
        },
        {
         "marker": {
          "color": "green",
          "size": 10
         },
         "mode": "markers",
         "name": "actual value",
         "type": "scatter",
         "x": [
          "2024-01-08T01:00:00"
         ],
         "y": [
          1
         ]
        }
       ],
       "layout": {
        "legend": {
         "tracegroupgap": 0
        },
        "template": {
         "data": {
          "bar": [
           {
            "error_x": {
             "color": "#2a3f5f"
            },
            "error_y": {
             "color": "#2a3f5f"
            },
            "marker": {
             "line": {
              "color": "#E5ECF6",
              "width": 0.5
             },
             "pattern": {
              "fillmode": "overlay",
              "size": 10,
              "solidity": 0.2
             }
            },
            "type": "bar"
           }
          ],
          "barpolar": [
           {
            "marker": {
             "line": {
              "color": "#E5ECF6",
              "width": 0.5
             },
             "pattern": {
              "fillmode": "overlay",
              "size": 10,
              "solidity": 0.2
             }
            },
            "type": "barpolar"
           }
          ],
          "carpet": [
           {
            "aaxis": {
             "endlinecolor": "#2a3f5f",
             "gridcolor": "white",
             "linecolor": "white",
             "minorgridcolor": "white",
             "startlinecolor": "#2a3f5f"
            },
            "baxis": {
             "endlinecolor": "#2a3f5f",
             "gridcolor": "white",
             "linecolor": "white",
             "minorgridcolor": "white",
             "startlinecolor": "#2a3f5f"
            },
            "type": "carpet"
           }
          ],
          "choropleth": [
           {
            "colorbar": {
             "outlinewidth": 0,
             "ticks": ""
            },
            "type": "choropleth"
           }
          ],
          "contour": [
           {
            "colorbar": {
             "outlinewidth": 0,
             "ticks": ""
            },
            "colorscale": [
             [
              0,
              "#0d0887"
             ],
             [
              0.1111111111111111,
              "#46039f"
             ],
             [
              0.2222222222222222,
              "#7201a8"
             ],
             [
              0.3333333333333333,
              "#9c179e"
             ],
             [
              0.4444444444444444,
              "#bd3786"
             ],
             [
              0.5555555555555556,
              "#d8576b"
             ],
             [
              0.6666666666666666,
              "#ed7953"
             ],
             [
              0.7777777777777778,
              "#fb9f3a"
             ],
             [
              0.8888888888888888,
              "#fdca26"
             ],
             [
              1,
              "#f0f921"
             ]
            ],
            "type": "contour"
           }
          ],
          "contourcarpet": [
           {
            "colorbar": {
             "outlinewidth": 0,
             "ticks": ""
            },
            "type": "contourcarpet"
           }
          ],
          "heatmap": [
           {
            "colorbar": {
             "outlinewidth": 0,
             "ticks": ""
            },
            "colorscale": [
             [
              0,
              "#0d0887"
             ],
             [
              0.1111111111111111,
              "#46039f"
             ],
             [
              0.2222222222222222,
              "#7201a8"
             ],
             [
              0.3333333333333333,
              "#9c179e"
             ],
             [
              0.4444444444444444,
              "#bd3786"
             ],
             [
              0.5555555555555556,
              "#d8576b"
             ],
             [
              0.6666666666666666,
              "#ed7953"
             ],
             [
              0.7777777777777778,
              "#fb9f3a"
             ],
             [
              0.8888888888888888,
              "#fdca26"
             ],
             [
              1,
              "#f0f921"
             ]
            ],
            "type": "heatmap"
           }
          ],
          "histogram": [
           {
            "marker": {
             "pattern": {
              "fillmode": "overlay",
              "size": 10,
              "solidity": 0.2
             }
            },
            "type": "histogram"
           }
          ],
          "histogram2d": [
           {
            "colorbar": {
             "outlinewidth": 0,
             "ticks": ""
            },
            "colorscale": [
             [
              0,
              "#0d0887"
             ],
             [
              0.1111111111111111,
              "#46039f"
             ],
             [
              0.2222222222222222,
              "#7201a8"
             ],
             [
              0.3333333333333333,
              "#9c179e"
             ],
             [
              0.4444444444444444,
              "#bd3786"
             ],
             [
              0.5555555555555556,
              "#d8576b"
             ],
             [
              0.6666666666666666,
              "#ed7953"
             ],
             [
              0.7777777777777778,
              "#fb9f3a"
             ],
             [
              0.8888888888888888,
              "#fdca26"
             ],
             [
              1,
              "#f0f921"
             ]
            ],
            "type": "histogram2d"
           }
          ],
          "histogram2dcontour": [
           {
            "colorbar": {
             "outlinewidth": 0,
             "ticks": ""
            },
            "colorscale": [
             [
              0,
              "#0d0887"
             ],
             [
              0.1111111111111111,
              "#46039f"
             ],
             [
              0.2222222222222222,
              "#7201a8"
             ],
             [
              0.3333333333333333,
              "#9c179e"
             ],
             [
              0.4444444444444444,
              "#bd3786"
             ],
             [
              0.5555555555555556,
              "#d8576b"
             ],
             [
              0.6666666666666666,
              "#ed7953"
             ],
             [
              0.7777777777777778,
              "#fb9f3a"
             ],
             [
              0.8888888888888888,
              "#fdca26"
             ],
             [
              1,
              "#f0f921"
             ]
            ],
            "type": "histogram2dcontour"
           }
          ],
          "mesh3d": [
           {
            "colorbar": {
             "outlinewidth": 0,
             "ticks": ""
            },
            "type": "mesh3d"
           }
          ],
          "parcoords": [
           {
            "line": {
             "colorbar": {
              "outlinewidth": 0,
              "ticks": ""
             }
            },
            "type": "parcoords"
           }
          ],
          "pie": [
           {
            "automargin": true,
            "type": "pie"
           }
          ],
          "scatter": [
           {
            "fillpattern": {
             "fillmode": "overlay",
             "size": 10,
             "solidity": 0.2
            },
            "type": "scatter"
           }
          ],
          "scatter3d": [
           {
            "line": {
             "colorbar": {
              "outlinewidth": 0,
              "ticks": ""
             }
            },
            "marker": {
             "colorbar": {
              "outlinewidth": 0,
              "ticks": ""
             }
            },
            "type": "scatter3d"
           }
          ],
          "scattercarpet": [
           {
            "marker": {
             "colorbar": {
              "outlinewidth": 0,
              "ticks": ""
             }
            },
            "type": "scattercarpet"
           }
          ],
          "scattergeo": [
           {
            "marker": {
             "colorbar": {
              "outlinewidth": 0,
              "ticks": ""
             }
            },
            "type": "scattergeo"
           }
          ],
          "scattergl": [
           {
            "marker": {
             "colorbar": {
              "outlinewidth": 0,
              "ticks": ""
             }
            },
            "type": "scattergl"
           }
          ],
          "scattermap": [
           {
            "marker": {
             "colorbar": {
              "outlinewidth": 0,
              "ticks": ""
             }
            },
            "type": "scattermap"
           }
          ],
          "scattermapbox": [
           {
            "marker": {
             "colorbar": {
              "outlinewidth": 0,
              "ticks": ""
             }
            },
            "type": "scattermapbox"
           }
          ],
          "scatterpolar": [
           {
            "marker": {
             "colorbar": {
              "outlinewidth": 0,
              "ticks": ""
             }
            },
            "type": "scatterpolar"
           }
          ],
          "scatterpolargl": [
           {
            "marker": {
             "colorbar": {
              "outlinewidth": 0,
              "ticks": ""
             }
            },
            "type": "scatterpolargl"
           }
          ],
          "scatterternary": [
           {
            "marker": {
             "colorbar": {
              "outlinewidth": 0,
              "ticks": ""
             }
            },
            "type": "scatterternary"
           }
          ],
          "surface": [
           {
            "colorbar": {
             "outlinewidth": 0,
             "ticks": ""
            },
            "colorscale": [
             [
              0,
              "#0d0887"
             ],
             [
              0.1111111111111111,
              "#46039f"
             ],
             [
              0.2222222222222222,
              "#7201a8"
             ],
             [
              0.3333333333333333,
              "#9c179e"
             ],
             [
              0.4444444444444444,
              "#bd3786"
             ],
             [
              0.5555555555555556,
              "#d8576b"
             ],
             [
              0.6666666666666666,
              "#ed7953"
             ],
             [
              0.7777777777777778,
              "#fb9f3a"
             ],
             [
              0.8888888888888888,
              "#fdca26"
             ],
             [
              1,
              "#f0f921"
             ]
            ],
            "type": "surface"
           }
          ],
          "table": [
           {
            "cells": {
             "fill": {
              "color": "#EBF0F8"
             },
             "line": {
              "color": "white"
             }
            },
            "header": {
             "fill": {
              "color": "#C8D4E3"
             },
             "line": {
              "color": "white"
             }
            },
            "type": "table"
           }
          ]
         },
         "layout": {
          "annotationdefaults": {
           "arrowcolor": "#2a3f5f",
           "arrowhead": 0,
           "arrowwidth": 1
          },
          "autotypenumbers": "strict",
          "coloraxis": {
           "colorbar": {
            "outlinewidth": 0,
            "ticks": ""
           }
          },
          "colorscale": {
           "diverging": [
            [
             0,
             "#8e0152"
            ],
            [
             0.1,
             "#c51b7d"
            ],
            [
             0.2,
             "#de77ae"
            ],
            [
             0.3,
             "#f1b6da"
            ],
            [
             0.4,
             "#fde0ef"
            ],
            [
             0.5,
             "#f7f7f7"
            ],
            [
             0.6,
             "#e6f5d0"
            ],
            [
             0.7,
             "#b8e186"
            ],
            [
             0.8,
             "#7fbc41"
            ],
            [
             0.9,
             "#4d9221"
            ],
            [
             1,
             "#276419"
            ]
           ],
           "sequential": [
            [
             0,
             "#0d0887"
            ],
            [
             0.1111111111111111,
             "#46039f"
            ],
            [
             0.2222222222222222,
             "#7201a8"
            ],
            [
             0.3333333333333333,
             "#9c179e"
            ],
            [
             0.4444444444444444,
             "#bd3786"
            ],
            [
             0.5555555555555556,
             "#d8576b"
            ],
            [
             0.6666666666666666,
             "#ed7953"
            ],
            [
             0.7777777777777778,
             "#fb9f3a"
            ],
            [
             0.8888888888888888,
             "#fdca26"
            ],
            [
             1,
             "#f0f921"
            ]
           ],
           "sequentialminus": [
            [
             0,
             "#0d0887"
            ],
            [
             0.1111111111111111,
             "#46039f"
            ],
            [
             0.2222222222222222,
             "#7201a8"
            ],
            [
             0.3333333333333333,
             "#9c179e"
            ],
            [
             0.4444444444444444,
             "#bd3786"
            ],
            [
             0.5555555555555556,
             "#d8576b"
            ],
            [
             0.6666666666666666,
             "#ed7953"
            ],
            [
             0.7777777777777778,
             "#fb9f3a"
            ],
            [
             0.8888888888888888,
             "#fdca26"
            ],
            [
             1,
             "#f0f921"
            ]
           ]
          },
          "colorway": [
           "#636efa",
           "#EF553B",
           "#00cc96",
           "#ab63fa",
           "#FFA15A",
           "#19d3f3",
           "#FF6692",
           "#B6E880",
           "#FF97FF",
           "#FECB52"
          ],
          "font": {
           "color": "#2a3f5f"
          },
          "geo": {
           "bgcolor": "white",
           "lakecolor": "white",
           "landcolor": "#E5ECF6",
           "showlakes": true,
           "showland": true,
           "subunitcolor": "white"
          },
          "hoverlabel": {
           "align": "left"
          },
          "hovermode": "closest",
          "mapbox": {
           "style": "light"
          },
          "paper_bgcolor": "white",
          "plot_bgcolor": "#E5ECF6",
          "polar": {
           "angularaxis": {
            "gridcolor": "white",
            "linecolor": "white",
            "ticks": ""
           },
           "bgcolor": "#E5ECF6",
           "radialaxis": {
            "gridcolor": "white",
            "linecolor": "white",
            "ticks": ""
           }
          },
          "scene": {
           "xaxis": {
            "backgroundcolor": "#E5ECF6",
            "gridcolor": "white",
            "gridwidth": 2,
            "linecolor": "white",
            "showbackground": true,
            "ticks": "",
            "zerolinecolor": "white"
           },
           "yaxis": {
            "backgroundcolor": "#E5ECF6",
            "gridcolor": "white",
            "gridwidth": 2,
            "linecolor": "white",
            "showbackground": true,
            "ticks": "",
            "zerolinecolor": "white"
           },
           "zaxis": {
            "backgroundcolor": "#E5ECF6",
            "gridcolor": "white",
            "gridwidth": 2,
            "linecolor": "white",
            "showbackground": true,
            "ticks": "",
            "zerolinecolor": "white"
           }
          },
          "shapedefaults": {
           "line": {
            "color": "#2a3f5f"
           }
          },
          "ternary": {
           "aaxis": {
            "gridcolor": "white",
            "linecolor": "white",
            "ticks": ""
           },
           "baxis": {
            "gridcolor": "white",
            "linecolor": "white",
            "ticks": ""
           },
           "bgcolor": "#E5ECF6",
           "caxis": {
            "gridcolor": "white",
            "linecolor": "white",
            "ticks": ""
           }
          },
          "title": {
           "x": 0.05
          },
          "xaxis": {
           "automargin": true,
           "gridcolor": "white",
           "linecolor": "white",
           "ticks": "",
           "title": {
            "standoff": 15
           },
           "zerolinecolor": "white",
           "zerolinewidth": 2
          },
          "yaxis": {
           "automargin": true,
           "gridcolor": "white",
           "linecolor": "white",
           "ticks": "",
           "title": {
            "standoff": 15
           },
           "zerolinecolor": "white",
           "zerolinewidth": 2
          }
         }
        },
        "title": {
         "text": "pickup_hour: 2024-01-08 00:00:00 target: 1.0 location_id: 4"
        },
        "xaxis": {
         "anchor": "y",
         "domain": [
          0,
          1
         ],
         "title": {
          "text": "x"
         }
        },
        "yaxis": {
         "anchor": "x",
         "domain": [
          0,
          1
         ],
         "title": {
          "text": "y"
         }
        }
       }
      }
     },
     "metadata": {},
     "output_type": "display_data"
    }
   ],
   "source": [
    "from plot import plot_one_sample\n",
    "\n",
    "plot_one_sample(\n",
    "    features=features,\n",
    "    targets=targets,\n",
    "    example_id=0\n",
    ")"
   ]
  }
 ],
 "metadata": {
  "kernelspec": {
   "display_name": "taxi-demand-predictor-FMhEZc6Y-py3.11",
   "language": "python",
   "name": "python3"
  },
  "language_info": {
   "codemirror_mode": {
    "name": "ipython",
    "version": 3
   },
   "file_extension": ".py",
   "mimetype": "text/x-python",
   "name": "python",
   "nbconvert_exporter": "python",
   "pygments_lexer": "ipython3",
   "version": "3.11.11"
  }
 },
 "nbformat": 4,
 "nbformat_minor": 2
}
