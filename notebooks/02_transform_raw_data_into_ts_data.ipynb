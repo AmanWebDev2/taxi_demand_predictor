{
 "cells": [
  {
   "cell_type": "code",
   "execution_count": 19,
   "metadata": {},
   "outputs": [
    {
     "data": {
      "text/html": [
       "<div>\n",
       "<style scoped>\n",
       "    .dataframe tbody tr th:only-of-type {\n",
       "        vertical-align: middle;\n",
       "    }\n",
       "\n",
       "    .dataframe tbody tr th {\n",
       "        vertical-align: top;\n",
       "    }\n",
       "\n",
       "    .dataframe thead th {\n",
       "        text-align: right;\n",
       "    }\n",
       "</style>\n",
       "<table border=\"1\" class=\"dataframe\">\n",
       "  <thead>\n",
       "    <tr style=\"text-align: right;\">\n",
       "      <th></th>\n",
       "      <th>pickup_datetime</th>\n",
       "      <th>pickup_location_id</th>\n",
       "    </tr>\n",
       "  </thead>\n",
       "  <tbody>\n",
       "    <tr>\n",
       "      <th>23213</th>\n",
       "      <td>2024-01-01 05:54:58</td>\n",
       "      <td>1</td>\n",
       "    </tr>\n",
       "    <tr>\n",
       "      <th>24321</th>\n",
       "      <td>2024-01-01 06:57:44</td>\n",
       "      <td>1</td>\n",
       "    </tr>\n",
       "    <tr>\n",
       "      <th>24322</th>\n",
       "      <td>2024-01-01 06:57:44</td>\n",
       "      <td>1</td>\n",
       "    </tr>\n",
       "    <tr>\n",
       "      <th>24323</th>\n",
       "      <td>2024-01-01 06:59:32</td>\n",
       "      <td>1</td>\n",
       "    </tr>\n",
       "    <tr>\n",
       "      <th>24678</th>\n",
       "      <td>2024-01-01 06:56:45</td>\n",
       "      <td>1</td>\n",
       "    </tr>\n",
       "    <tr>\n",
       "      <th>37075</th>\n",
       "      <td>2024-01-01 13:51:30</td>\n",
       "      <td>1</td>\n",
       "    </tr>\n",
       "    <tr>\n",
       "      <th>37364</th>\n",
       "      <td>2024-01-01 13:44:04</td>\n",
       "      <td>1</td>\n",
       "    </tr>\n",
       "    <tr>\n",
       "      <th>38566</th>\n",
       "      <td>2024-01-01 13:46:08</td>\n",
       "      <td>1</td>\n",
       "    </tr>\n",
       "    <tr>\n",
       "      <th>40509</th>\n",
       "      <td>2024-01-01 14:58:25</td>\n",
       "      <td>1</td>\n",
       "    </tr>\n",
       "    <tr>\n",
       "      <th>42009</th>\n",
       "      <td>2024-01-01 14:27:42</td>\n",
       "      <td>1</td>\n",
       "    </tr>\n",
       "    <tr>\n",
       "      <th>42031</th>\n",
       "      <td>2024-01-01 14:02:22</td>\n",
       "      <td>1</td>\n",
       "    </tr>\n",
       "    <tr>\n",
       "      <th>42032</th>\n",
       "      <td>2024-01-01 14:03:55</td>\n",
       "      <td>1</td>\n",
       "    </tr>\n",
       "    <tr>\n",
       "      <th>42290</th>\n",
       "      <td>2024-01-01 14:47:54</td>\n",
       "      <td>1</td>\n",
       "    </tr>\n",
       "    <tr>\n",
       "      <th>42888</th>\n",
       "      <td>2024-01-01 14:57:56</td>\n",
       "      <td>1</td>\n",
       "    </tr>\n",
       "    <tr>\n",
       "      <th>44963</th>\n",
       "      <td>2024-01-01 15:44:29</td>\n",
       "      <td>1</td>\n",
       "    </tr>\n",
       "    <tr>\n",
       "      <th>46691</th>\n",
       "      <td>2024-01-01 15:29:10</td>\n",
       "      <td>1</td>\n",
       "    </tr>\n",
       "    <tr>\n",
       "      <th>48892</th>\n",
       "      <td>2024-01-01 16:50:39</td>\n",
       "      <td>1</td>\n",
       "    </tr>\n",
       "    <tr>\n",
       "      <th>53405</th>\n",
       "      <td>2024-01-01 17:09:04</td>\n",
       "      <td>1</td>\n",
       "    </tr>\n",
       "    <tr>\n",
       "      <th>53406</th>\n",
       "      <td>2024-01-01 17:12:32</td>\n",
       "      <td>1</td>\n",
       "    </tr>\n",
       "    <tr>\n",
       "      <th>54804</th>\n",
       "      <td>2024-01-01 17:48:47</td>\n",
       "      <td>1</td>\n",
       "    </tr>\n",
       "    <tr>\n",
       "      <th>58276</th>\n",
       "      <td>2024-01-01 17:45:45</td>\n",
       "      <td>1</td>\n",
       "    </tr>\n",
       "    <tr>\n",
       "      <th>72697</th>\n",
       "      <td>2024-01-02 05:13:37</td>\n",
       "      <td>1</td>\n",
       "    </tr>\n",
       "    <tr>\n",
       "      <th>73805</th>\n",
       "      <td>2024-01-02 06:16:58</td>\n",
       "      <td>1</td>\n",
       "    </tr>\n",
       "    <tr>\n",
       "      <th>76951</th>\n",
       "      <td>2024-01-02 07:10:47</td>\n",
       "      <td>1</td>\n",
       "    </tr>\n",
       "    <tr>\n",
       "      <th>76952</th>\n",
       "      <td>2024-01-02 07:10:47</td>\n",
       "      <td>1</td>\n",
       "    </tr>\n",
       "    <tr>\n",
       "      <th>76953</th>\n",
       "      <td>2024-01-02 07:16:30</td>\n",
       "      <td>1</td>\n",
       "    </tr>\n",
       "    <tr>\n",
       "      <th>79705</th>\n",
       "      <td>2024-01-02 08:51:53</td>\n",
       "      <td>1</td>\n",
       "    </tr>\n",
       "    <tr>\n",
       "      <th>86664</th>\n",
       "      <td>2024-01-02 10:41:04</td>\n",
       "      <td>1</td>\n",
       "    </tr>\n",
       "    <tr>\n",
       "      <th>87804</th>\n",
       "      <td>2024-01-02 10:46:20</td>\n",
       "      <td>1</td>\n",
       "    </tr>\n",
       "    <tr>\n",
       "      <th>102870</th>\n",
       "      <td>2024-01-02 14:25:21</td>\n",
       "      <td>1</td>\n",
       "    </tr>\n",
       "    <tr>\n",
       "      <th>107319</th>\n",
       "      <td>2024-01-02 15:22:24</td>\n",
       "      <td>1</td>\n",
       "    </tr>\n",
       "    <tr>\n",
       "      <th>109719</th>\n",
       "      <td>2024-01-02 15:16:53</td>\n",
       "      <td>1</td>\n",
       "    </tr>\n",
       "    <tr>\n",
       "      <th>111661</th>\n",
       "      <td>2024-01-02 15:02:04</td>\n",
       "      <td>1</td>\n",
       "    </tr>\n",
       "    <tr>\n",
       "      <th>111869</th>\n",
       "      <td>2024-01-02 15:33:16</td>\n",
       "      <td>1</td>\n",
       "    </tr>\n",
       "    <tr>\n",
       "      <th>112015</th>\n",
       "      <td>2024-01-02 15:25:50</td>\n",
       "      <td>1</td>\n",
       "    </tr>\n",
       "    <tr>\n",
       "      <th>124588</th>\n",
       "      <td>2024-01-02 18:59:20</td>\n",
       "      <td>1</td>\n",
       "    </tr>\n",
       "    <tr>\n",
       "      <th>124651</th>\n",
       "      <td>2024-01-02 18:03:12</td>\n",
       "      <td>1</td>\n",
       "    </tr>\n",
       "    <tr>\n",
       "      <th>124867</th>\n",
       "      <td>2024-01-02 18:33:10</td>\n",
       "      <td>1</td>\n",
       "    </tr>\n",
       "    <tr>\n",
       "      <th>126888</th>\n",
       "      <td>2024-01-02 18:41:18</td>\n",
       "      <td>1</td>\n",
       "    </tr>\n",
       "    <tr>\n",
       "      <th>130081</th>\n",
       "      <td>2024-01-02 19:35:47</td>\n",
       "      <td>1</td>\n",
       "    </tr>\n",
       "    <tr>\n",
       "      <th>131673</th>\n",
       "      <td>2024-01-02 19:02:26</td>\n",
       "      <td>1</td>\n",
       "    </tr>\n",
       "    <tr>\n",
       "      <th>146088</th>\n",
       "      <td>2024-01-03 04:50:59</td>\n",
       "      <td>1</td>\n",
       "    </tr>\n",
       "    <tr>\n",
       "      <th>150339</th>\n",
       "      <td>2024-01-03 07:33:36</td>\n",
       "      <td>1</td>\n",
       "    </tr>\n",
       "    <tr>\n",
       "      <th>150875</th>\n",
       "      <td>2024-01-03 08:00:05</td>\n",
       "      <td>1</td>\n",
       "    </tr>\n",
       "    <tr>\n",
       "      <th>157919</th>\n",
       "      <td>2024-01-03 09:37:32</td>\n",
       "      <td>1</td>\n",
       "    </tr>\n",
       "    <tr>\n",
       "      <th>164309</th>\n",
       "      <td>2024-01-03 11:49:40</td>\n",
       "      <td>1</td>\n",
       "    </tr>\n",
       "    <tr>\n",
       "      <th>170280</th>\n",
       "      <td>2024-01-03 12:30:11</td>\n",
       "      <td>1</td>\n",
       "    </tr>\n",
       "    <tr>\n",
       "      <th>170610</th>\n",
       "      <td>2024-01-03 12:43:22</td>\n",
       "      <td>1</td>\n",
       "    </tr>\n",
       "    <tr>\n",
       "      <th>171811</th>\n",
       "      <td>2024-01-03 12:39:57</td>\n",
       "      <td>1</td>\n",
       "    </tr>\n",
       "    <tr>\n",
       "      <th>181085</th>\n",
       "      <td>2024-01-03 14:23:00</td>\n",
       "      <td>1</td>\n",
       "    </tr>\n",
       "    <tr>\n",
       "      <th>186330</th>\n",
       "      <td>2024-01-03 15:52:34</td>\n",
       "      <td>1</td>\n",
       "    </tr>\n",
       "    <tr>\n",
       "      <th>186331</th>\n",
       "      <td>2024-01-03 15:52:34</td>\n",
       "      <td>1</td>\n",
       "    </tr>\n",
       "    <tr>\n",
       "      <th>193864</th>\n",
       "      <td>2024-01-03 16:57:37</td>\n",
       "      <td>1</td>\n",
       "    </tr>\n",
       "    <tr>\n",
       "      <th>200479</th>\n",
       "      <td>2024-01-03 18:00:39</td>\n",
       "      <td>1</td>\n",
       "    </tr>\n",
       "    <tr>\n",
       "      <th>200480</th>\n",
       "      <td>2024-01-03 18:01:56</td>\n",
       "      <td>1</td>\n",
       "    </tr>\n",
       "    <tr>\n",
       "      <th>202171</th>\n",
       "      <td>2024-01-03 18:13:10</td>\n",
       "      <td>1</td>\n",
       "    </tr>\n",
       "    <tr>\n",
       "      <th>204390</th>\n",
       "      <td>2024-01-03 18:58:36</td>\n",
       "      <td>1</td>\n",
       "    </tr>\n",
       "    <tr>\n",
       "      <th>247193</th>\n",
       "      <td>2024-01-04 11:57:08</td>\n",
       "      <td>1</td>\n",
       "    </tr>\n",
       "    <tr>\n",
       "      <th>252050</th>\n",
       "      <td>2024-01-04 12:39:28</td>\n",
       "      <td>1</td>\n",
       "    </tr>\n",
       "    <tr>\n",
       "      <th>252659</th>\n",
       "      <td>2024-01-04 12:43:31</td>\n",
       "      <td>1</td>\n",
       "    </tr>\n",
       "  </tbody>\n",
       "</table>\n",
       "</div>"
      ],
      "text/plain": [
       "           pickup_datetime  pickup_location_id\n",
       "23213  2024-01-01 05:54:58                   1\n",
       "24321  2024-01-01 06:57:44                   1\n",
       "24322  2024-01-01 06:57:44                   1\n",
       "24323  2024-01-01 06:59:32                   1\n",
       "24678  2024-01-01 06:56:45                   1\n",
       "37075  2024-01-01 13:51:30                   1\n",
       "37364  2024-01-01 13:44:04                   1\n",
       "38566  2024-01-01 13:46:08                   1\n",
       "40509  2024-01-01 14:58:25                   1\n",
       "42009  2024-01-01 14:27:42                   1\n",
       "42031  2024-01-01 14:02:22                   1\n",
       "42032  2024-01-01 14:03:55                   1\n",
       "42290  2024-01-01 14:47:54                   1\n",
       "42888  2024-01-01 14:57:56                   1\n",
       "44963  2024-01-01 15:44:29                   1\n",
       "46691  2024-01-01 15:29:10                   1\n",
       "48892  2024-01-01 16:50:39                   1\n",
       "53405  2024-01-01 17:09:04                   1\n",
       "53406  2024-01-01 17:12:32                   1\n",
       "54804  2024-01-01 17:48:47                   1\n",
       "58276  2024-01-01 17:45:45                   1\n",
       "72697  2024-01-02 05:13:37                   1\n",
       "73805  2024-01-02 06:16:58                   1\n",
       "76951  2024-01-02 07:10:47                   1\n",
       "76952  2024-01-02 07:10:47                   1\n",
       "76953  2024-01-02 07:16:30                   1\n",
       "79705  2024-01-02 08:51:53                   1\n",
       "86664  2024-01-02 10:41:04                   1\n",
       "87804  2024-01-02 10:46:20                   1\n",
       "102870 2024-01-02 14:25:21                   1\n",
       "107319 2024-01-02 15:22:24                   1\n",
       "109719 2024-01-02 15:16:53                   1\n",
       "111661 2024-01-02 15:02:04                   1\n",
       "111869 2024-01-02 15:33:16                   1\n",
       "112015 2024-01-02 15:25:50                   1\n",
       "124588 2024-01-02 18:59:20                   1\n",
       "124651 2024-01-02 18:03:12                   1\n",
       "124867 2024-01-02 18:33:10                   1\n",
       "126888 2024-01-02 18:41:18                   1\n",
       "130081 2024-01-02 19:35:47                   1\n",
       "131673 2024-01-02 19:02:26                   1\n",
       "146088 2024-01-03 04:50:59                   1\n",
       "150339 2024-01-03 07:33:36                   1\n",
       "150875 2024-01-03 08:00:05                   1\n",
       "157919 2024-01-03 09:37:32                   1\n",
       "164309 2024-01-03 11:49:40                   1\n",
       "170280 2024-01-03 12:30:11                   1\n",
       "170610 2024-01-03 12:43:22                   1\n",
       "171811 2024-01-03 12:39:57                   1\n",
       "181085 2024-01-03 14:23:00                   1\n",
       "186330 2024-01-03 15:52:34                   1\n",
       "186331 2024-01-03 15:52:34                   1\n",
       "193864 2024-01-03 16:57:37                   1\n",
       "200479 2024-01-03 18:00:39                   1\n",
       "200480 2024-01-03 18:01:56                   1\n",
       "202171 2024-01-03 18:13:10                   1\n",
       "204390 2024-01-03 18:58:36                   1\n",
       "247193 2024-01-04 11:57:08                   1\n",
       "252050 2024-01-04 12:39:28                   1\n",
       "252659 2024-01-04 12:43:31                   1"
      ]
     },
     "execution_count": 19,
     "metadata": {},
     "output_type": "execute_result"
    }
   ],
   "source": [
    "import pandas as pd\n",
    "\n",
    "rides = pd.read_parquet(\"../data/transformed/validated_rides_2024_01.parquet\")\n",
    "\n",
    "rides[(rides[\"pickup_datetime\"] >= \"2024-01-01 00:00:00\") & (rides[\"pickup_location_id\"] == 1)].head(60)"
   ]
  },
  {
   "cell_type": "code",
   "execution_count": null,
   "metadata": {},
   "outputs": [],
   "source": []
  },
  {
   "cell_type": "markdown",
   "metadata": {},
   "source": [
    "# Work with hourly frequency \n",
    "## Predict next hour mai konsa user drive book karega"
   ]
  },
  {
   "cell_type": "code",
   "execution_count": 7,
   "metadata": {},
   "outputs": [
    {
     "name": "stderr",
     "output_type": "stream",
     "text": [
      "/var/folders/rv/rz35217x3f9c_hbwkzjsl5jh0000gp/T/ipykernel_6435/1216300379.py:2: FutureWarning: 'H' is deprecated and will be removed in a future version, please use 'h' instead.\n",
      "  rides[\"pickup_hour\"] = rides[\"pickup_datetime\"].dt.floor(\"H\")\n"
     ]
    },
    {
     "data": {
      "text/html": [
       "<div>\n",
       "<style scoped>\n",
       "    .dataframe tbody tr th:only-of-type {\n",
       "        vertical-align: middle;\n",
       "    }\n",
       "\n",
       "    .dataframe tbody tr th {\n",
       "        vertical-align: top;\n",
       "    }\n",
       "\n",
       "    .dataframe thead th {\n",
       "        text-align: right;\n",
       "    }\n",
       "</style>\n",
       "<table border=\"1\" class=\"dataframe\">\n",
       "  <thead>\n",
       "    <tr style=\"text-align: right;\">\n",
       "      <th></th>\n",
       "      <th>pickup_datetime</th>\n",
       "      <th>pickup_location_id</th>\n",
       "      <th>pickup_hour</th>\n",
       "    </tr>\n",
       "  </thead>\n",
       "  <tbody>\n",
       "    <tr>\n",
       "      <th>0</th>\n",
       "      <td>2024-01-01 00:57:55</td>\n",
       "      <td>186</td>\n",
       "      <td>2024-01-01 00:00:00</td>\n",
       "    </tr>\n",
       "    <tr>\n",
       "      <th>4416</th>\n",
       "      <td>2024-01-01 00:29:35</td>\n",
       "      <td>239</td>\n",
       "      <td>2024-01-01 00:00:00</td>\n",
       "    </tr>\n",
       "    <tr>\n",
       "      <th>4415</th>\n",
       "      <td>2024-01-01 00:29:35</td>\n",
       "      <td>239</td>\n",
       "      <td>2024-01-01 00:00:00</td>\n",
       "    </tr>\n",
       "    <tr>\n",
       "      <th>4414</th>\n",
       "      <td>2024-01-01 00:39:39</td>\n",
       "      <td>100</td>\n",
       "      <td>2024-01-01 00:00:00</td>\n",
       "    </tr>\n",
       "    <tr>\n",
       "      <th>4413</th>\n",
       "      <td>2024-01-01 00:53:11</td>\n",
       "      <td>68</td>\n",
       "      <td>2024-01-01 00:00:00</td>\n",
       "    </tr>\n",
       "    <tr>\n",
       "      <th>...</th>\n",
       "      <td>...</td>\n",
       "      <td>...</td>\n",
       "      <td>...</td>\n",
       "    </tr>\n",
       "    <tr>\n",
       "      <th>2822545</th>\n",
       "      <td>2024-01-31 23:22:04</td>\n",
       "      <td>148</td>\n",
       "      <td>2024-01-31 23:00:00</td>\n",
       "    </tr>\n",
       "    <tr>\n",
       "      <th>2822546</th>\n",
       "      <td>2024-01-31 23:23:52</td>\n",
       "      <td>138</td>\n",
       "      <td>2024-01-31 23:00:00</td>\n",
       "    </tr>\n",
       "    <tr>\n",
       "      <th>2822547</th>\n",
       "      <td>2024-01-31 23:45:25</td>\n",
       "      <td>144</td>\n",
       "      <td>2024-01-31 23:00:00</td>\n",
       "    </tr>\n",
       "    <tr>\n",
       "      <th>2822576</th>\n",
       "      <td>2024-01-31 23:19:13</td>\n",
       "      <td>79</td>\n",
       "      <td>2024-01-31 23:00:00</td>\n",
       "    </tr>\n",
       "    <tr>\n",
       "      <th>2964623</th>\n",
       "      <td>2024-01-31 23:58:25</td>\n",
       "      <td>138</td>\n",
       "      <td>2024-01-31 23:00:00</td>\n",
       "    </tr>\n",
       "  </tbody>\n",
       "</table>\n",
       "<p>2964606 rows × 3 columns</p>\n",
       "</div>"
      ],
      "text/plain": [
       "            pickup_datetime  pickup_location_id         pickup_hour\n",
       "0       2024-01-01 00:57:55                 186 2024-01-01 00:00:00\n",
       "4416    2024-01-01 00:29:35                 239 2024-01-01 00:00:00\n",
       "4415    2024-01-01 00:29:35                 239 2024-01-01 00:00:00\n",
       "4414    2024-01-01 00:39:39                 100 2024-01-01 00:00:00\n",
       "4413    2024-01-01 00:53:11                  68 2024-01-01 00:00:00\n",
       "...                     ...                 ...                 ...\n",
       "2822545 2024-01-31 23:22:04                 148 2024-01-31 23:00:00\n",
       "2822546 2024-01-31 23:23:52                 138 2024-01-31 23:00:00\n",
       "2822547 2024-01-31 23:45:25                 144 2024-01-31 23:00:00\n",
       "2822576 2024-01-31 23:19:13                  79 2024-01-31 23:00:00\n",
       "2964623 2024-01-31 23:58:25                 138 2024-01-31 23:00:00\n",
       "\n",
       "[2964606 rows x 3 columns]"
      ]
     },
     "execution_count": 7,
     "metadata": {},
     "output_type": "execute_result"
    }
   ],
   "source": [
    "# dt is a datetime object\n",
    "rides[\"pickup_hour\"] = rides[\"pickup_datetime\"].dt.floor(\"H\")\n",
    "rides = rides.sort_values(by=\"pickup_hour\")\n",
    "rides"
   ]
  },
  {
   "cell_type": "markdown",
   "metadata": {},
   "source": [
    "## For every pickup hour and location, fetch the number of rides\n",
    "\n",
    "- When you use groupby() with multiple columns like rides.groupby([\"pickup_hour\", \"pickup_location_id\"]), it only creates groups for combinations that actually exist in your data.\n",
    "\n",
    "\n",
    "## Why This Matters for Your Project\n",
    "For a taxi demand predictor, including zero-count combinations is often important because:\n",
    "Your model needs to learn that certain locations have no demand during certain hours\n",
    "When making predictions, you'll want to predict for all location-hour combinations, not just the ones that had rides in the past\n",
    "Time series analysis typically requires a complete time series without gaps\n",
    "Including these zero-count combinations gives you a more complete picture of demand patterns across all locations and times."
   ]
  },
  {
   "cell_type": "code",
   "execution_count": 8,
   "metadata": {},
   "outputs": [
    {
     "data": {
      "text/html": [
       "<div>\n",
       "<style scoped>\n",
       "    .dataframe tbody tr th:only-of-type {\n",
       "        vertical-align: middle;\n",
       "    }\n",
       "\n",
       "    .dataframe tbody tr th {\n",
       "        vertical-align: top;\n",
       "    }\n",
       "\n",
       "    .dataframe thead th {\n",
       "        text-align: right;\n",
       "    }\n",
       "</style>\n",
       "<table border=\"1\" class=\"dataframe\">\n",
       "  <thead>\n",
       "    <tr style=\"text-align: right;\">\n",
       "      <th></th>\n",
       "      <th>pickup_hour</th>\n",
       "      <th>pickup_location_id</th>\n",
       "      <th>rides_count</th>\n",
       "    </tr>\n",
       "  </thead>\n",
       "  <tbody>\n",
       "    <tr>\n",
       "      <th>0</th>\n",
       "      <td>2024-01-01 00:00:00</td>\n",
       "      <td>4</td>\n",
       "      <td>25</td>\n",
       "    </tr>\n",
       "    <tr>\n",
       "      <th>1</th>\n",
       "      <td>2024-01-01 00:00:00</td>\n",
       "      <td>7</td>\n",
       "      <td>4</td>\n",
       "    </tr>\n",
       "    <tr>\n",
       "      <th>2</th>\n",
       "      <td>2024-01-01 00:00:00</td>\n",
       "      <td>9</td>\n",
       "      <td>1</td>\n",
       "    </tr>\n",
       "    <tr>\n",
       "      <th>3</th>\n",
       "      <td>2024-01-01 00:00:00</td>\n",
       "      <td>10</td>\n",
       "      <td>6</td>\n",
       "    </tr>\n",
       "    <tr>\n",
       "      <th>4</th>\n",
       "      <td>2024-01-01 00:00:00</td>\n",
       "      <td>12</td>\n",
       "      <td>4</td>\n",
       "    </tr>\n",
       "    <tr>\n",
       "      <th>...</th>\n",
       "      <td>...</td>\n",
       "      <td>...</td>\n",
       "      <td>...</td>\n",
       "    </tr>\n",
       "    <tr>\n",
       "      <th>77525</th>\n",
       "      <td>2024-01-31 23:00:00</td>\n",
       "      <td>260</td>\n",
       "      <td>2</td>\n",
       "    </tr>\n",
       "    <tr>\n",
       "      <th>77526</th>\n",
       "      <td>2024-01-31 23:00:00</td>\n",
       "      <td>261</td>\n",
       "      <td>12</td>\n",
       "    </tr>\n",
       "    <tr>\n",
       "      <th>77527</th>\n",
       "      <td>2024-01-31 23:00:00</td>\n",
       "      <td>262</td>\n",
       "      <td>9</td>\n",
       "    </tr>\n",
       "    <tr>\n",
       "      <th>77528</th>\n",
       "      <td>2024-01-31 23:00:00</td>\n",
       "      <td>263</td>\n",
       "      <td>53</td>\n",
       "    </tr>\n",
       "    <tr>\n",
       "      <th>77529</th>\n",
       "      <td>2024-01-31 23:00:00</td>\n",
       "      <td>264</td>\n",
       "      <td>4</td>\n",
       "    </tr>\n",
       "  </tbody>\n",
       "</table>\n",
       "<p>77530 rows × 3 columns</p>\n",
       "</div>"
      ],
      "text/plain": [
       "              pickup_hour  pickup_location_id  rides_count\n",
       "0     2024-01-01 00:00:00                   4           25\n",
       "1     2024-01-01 00:00:00                   7            4\n",
       "2     2024-01-01 00:00:00                   9            1\n",
       "3     2024-01-01 00:00:00                  10            6\n",
       "4     2024-01-01 00:00:00                  12            4\n",
       "...                   ...                 ...          ...\n",
       "77525 2024-01-31 23:00:00                 260            2\n",
       "77526 2024-01-31 23:00:00                 261           12\n",
       "77527 2024-01-31 23:00:00                 262            9\n",
       "77528 2024-01-31 23:00:00                 263           53\n",
       "77529 2024-01-31 23:00:00                 264            4\n",
       "\n",
       "[77530 rows x 3 columns]"
      ]
     },
     "execution_count": 8,
     "metadata": {},
     "output_type": "execute_result"
    }
   ],
   "source": [
    "# rides.groupby([\"pickup_hour\", \"pickup_location_id\"]) - Groups all the individual ride records by both the hour and the pickup location ID\n",
    "# .size() - Counts the number of rides in each group (each unique hour-location combination)\n",
    "# .reset_index(name=\"rides_count\") - Converts the result into a DataFrame with three columns:\n",
    "# pickup_hour: The hourly timestamp (e.g., \"2024-01-01 00:00:00\")\n",
    "# pickup_location_id: The location identifier\n",
    "# rides_count: The number of rides that occurred at that location during that hour\n",
    "agg_rides = rides.groupby([\"pickup_hour\", \"pickup_location_id\"]).size().reset_index(name=\"rides_count\")\n",
    "agg_rides"
   ]
  },
  {
   "cell_type": "markdown",
   "metadata": {},
   "source": [
    "## Adding zeroes for missing rows"
   ]
  },
  {
   "cell_type": "code",
   "execution_count": 9,
   "metadata": {},
   "outputs": [],
   "source": [
    "from tqdm import tqdm\n",
    "\n",
    "def add_missing_rows(agg_rides:pd.DataFrame) -> pd.DataFrame:\n",
    "    location_ids = agg_rides[\"pickup_location_id\"].unique()\n",
    "    full_range = pd.date_range(\n",
    "        agg_rides[\"pickup_hour\"].min(),\n",
    "        agg_rides[\"pickup_hour\"].max(),\n",
    "        freq=\"H\"\n",
    "    )\n",
    "    print(full_range)\n",
    "    output = pd.DataFrame()\n",
    "    for location_id in tqdm(location_ids):\n",
    "        # keep only rides for this 'location_id' (filter operation)\n",
    "        agg_rides_i = agg_rides.loc[agg_rides.pickup_location_id == location_id,['pickup_hour','rides_count']]\n",
    "\n",
    "        # quick way to add missing dates with 0 in a series (reindex operation)\n",
    "        agg_rides_i.set_index(\"pickup_hour\", inplace=True)\n",
    "        agg_rides_i.index = pd.to_datetime(agg_rides_i.index)\n",
    "        agg_rides_i = agg_rides_i.reindex(full_range, fill_value=0)\n",
    "\n",
    "        # add back the location_id column\n",
    "        agg_rides_i[\"pickup_location_id\"] = location_id\n",
    "\n",
    "        output = pd.concat([output, agg_rides_i])\n",
    "    \n",
    "    output = output.reset_index().rename(columns={\"index\":\"pickup_hour\"})\n",
    "    return output\n",
    "\n"
   ]
  },
  {
   "cell_type": "code",
   "execution_count": 14,
   "metadata": {},
   "outputs": [
    {
     "name": "stderr",
     "output_type": "stream",
     "text": [
      "/var/folders/rv/rz35217x3f9c_hbwkzjsl5jh0000gp/T/ipykernel_6435/2573849536.py:5: FutureWarning:\n",
      "\n",
      "'H' is deprecated and will be removed in a future version, please use 'h' instead.\n",
      "\n"
     ]
    },
    {
     "name": "stdout",
     "output_type": "stream",
     "text": [
      "DatetimeIndex(['2024-01-01 00:00:00', '2024-01-01 01:00:00',\n",
      "               '2024-01-01 02:00:00', '2024-01-01 03:00:00',\n",
      "               '2024-01-01 04:00:00', '2024-01-01 05:00:00',\n",
      "               '2024-01-01 06:00:00', '2024-01-01 07:00:00',\n",
      "               '2024-01-01 08:00:00', '2024-01-01 09:00:00',\n",
      "               ...\n",
      "               '2024-01-31 14:00:00', '2024-01-31 15:00:00',\n",
      "               '2024-01-31 16:00:00', '2024-01-31 17:00:00',\n",
      "               '2024-01-31 18:00:00', '2024-01-31 19:00:00',\n",
      "               '2024-01-31 20:00:00', '2024-01-31 21:00:00',\n",
      "               '2024-01-31 22:00:00', '2024-01-31 23:00:00'],\n",
      "              dtype='datetime64[ns]', length=744, freq='h')\n"
     ]
    },
    {
     "name": "stderr",
     "output_type": "stream",
     "text": [
      "100%|██████████| 260/260 [00:00<00:00, 264.79it/s]\n"
     ]
    },
    {
     "data": {
      "text/html": [
       "<div>\n",
       "<style scoped>\n",
       "    .dataframe tbody tr th:only-of-type {\n",
       "        vertical-align: middle;\n",
       "    }\n",
       "\n",
       "    .dataframe tbody tr th {\n",
       "        vertical-align: top;\n",
       "    }\n",
       "\n",
       "    .dataframe thead th {\n",
       "        text-align: right;\n",
       "    }\n",
       "</style>\n",
       "<table border=\"1\" class=\"dataframe\">\n",
       "  <thead>\n",
       "    <tr style=\"text-align: right;\">\n",
       "      <th></th>\n",
       "      <th>pickup_hour</th>\n",
       "      <th>rides_count</th>\n",
       "      <th>pickup_location_id</th>\n",
       "    </tr>\n",
       "  </thead>\n",
       "  <tbody>\n",
       "    <tr>\n",
       "      <th>0</th>\n",
       "      <td>2024-01-01 00:00:00</td>\n",
       "      <td>25</td>\n",
       "      <td>4</td>\n",
       "    </tr>\n",
       "    <tr>\n",
       "      <th>1</th>\n",
       "      <td>2024-01-01 01:00:00</td>\n",
       "      <td>29</td>\n",
       "      <td>4</td>\n",
       "    </tr>\n",
       "    <tr>\n",
       "      <th>2</th>\n",
       "      <td>2024-01-01 02:00:00</td>\n",
       "      <td>34</td>\n",
       "      <td>4</td>\n",
       "    </tr>\n",
       "    <tr>\n",
       "      <th>3</th>\n",
       "      <td>2024-01-01 03:00:00</td>\n",
       "      <td>31</td>\n",
       "      <td>4</td>\n",
       "    </tr>\n",
       "    <tr>\n",
       "      <th>4</th>\n",
       "      <td>2024-01-01 04:00:00</td>\n",
       "      <td>32</td>\n",
       "      <td>4</td>\n",
       "    </tr>\n",
       "    <tr>\n",
       "      <th>5</th>\n",
       "      <td>2024-01-01 05:00:00</td>\n",
       "      <td>8</td>\n",
       "      <td>4</td>\n",
       "    </tr>\n",
       "    <tr>\n",
       "      <th>6</th>\n",
       "      <td>2024-01-01 06:00:00</td>\n",
       "      <td>6</td>\n",
       "      <td>4</td>\n",
       "    </tr>\n",
       "    <tr>\n",
       "      <th>7</th>\n",
       "      <td>2024-01-01 07:00:00</td>\n",
       "      <td>4</td>\n",
       "      <td>4</td>\n",
       "    </tr>\n",
       "    <tr>\n",
       "      <th>8</th>\n",
       "      <td>2024-01-01 08:00:00</td>\n",
       "      <td>0</td>\n",
       "      <td>4</td>\n",
       "    </tr>\n",
       "    <tr>\n",
       "      <th>9</th>\n",
       "      <td>2024-01-01 09:00:00</td>\n",
       "      <td>1</td>\n",
       "      <td>4</td>\n",
       "    </tr>\n",
       "    <tr>\n",
       "      <th>10</th>\n",
       "      <td>2024-01-01 10:00:00</td>\n",
       "      <td>3</td>\n",
       "      <td>4</td>\n",
       "    </tr>\n",
       "    <tr>\n",
       "      <th>11</th>\n",
       "      <td>2024-01-01 11:00:00</td>\n",
       "      <td>5</td>\n",
       "      <td>4</td>\n",
       "    </tr>\n",
       "    <tr>\n",
       "      <th>12</th>\n",
       "      <td>2024-01-01 12:00:00</td>\n",
       "      <td>5</td>\n",
       "      <td>4</td>\n",
       "    </tr>\n",
       "    <tr>\n",
       "      <th>13</th>\n",
       "      <td>2024-01-01 13:00:00</td>\n",
       "      <td>1</td>\n",
       "      <td>4</td>\n",
       "    </tr>\n",
       "    <tr>\n",
       "      <th>14</th>\n",
       "      <td>2024-01-01 14:00:00</td>\n",
       "      <td>6</td>\n",
       "      <td>4</td>\n",
       "    </tr>\n",
       "    <tr>\n",
       "      <th>15</th>\n",
       "      <td>2024-01-01 15:00:00</td>\n",
       "      <td>4</td>\n",
       "      <td>4</td>\n",
       "    </tr>\n",
       "    <tr>\n",
       "      <th>16</th>\n",
       "      <td>2024-01-01 16:00:00</td>\n",
       "      <td>0</td>\n",
       "      <td>4</td>\n",
       "    </tr>\n",
       "    <tr>\n",
       "      <th>17</th>\n",
       "      <td>2024-01-01 17:00:00</td>\n",
       "      <td>2</td>\n",
       "      <td>4</td>\n",
       "    </tr>\n",
       "    <tr>\n",
       "      <th>18</th>\n",
       "      <td>2024-01-01 18:00:00</td>\n",
       "      <td>1</td>\n",
       "      <td>4</td>\n",
       "    </tr>\n",
       "    <tr>\n",
       "      <th>19</th>\n",
       "      <td>2024-01-01 19:00:00</td>\n",
       "      <td>2</td>\n",
       "      <td>4</td>\n",
       "    </tr>\n",
       "    <tr>\n",
       "      <th>20</th>\n",
       "      <td>2024-01-01 20:00:00</td>\n",
       "      <td>2</td>\n",
       "      <td>4</td>\n",
       "    </tr>\n",
       "    <tr>\n",
       "      <th>21</th>\n",
       "      <td>2024-01-01 21:00:00</td>\n",
       "      <td>5</td>\n",
       "      <td>4</td>\n",
       "    </tr>\n",
       "    <tr>\n",
       "      <th>22</th>\n",
       "      <td>2024-01-01 22:00:00</td>\n",
       "      <td>1</td>\n",
       "      <td>4</td>\n",
       "    </tr>\n",
       "    <tr>\n",
       "      <th>23</th>\n",
       "      <td>2024-01-01 23:00:00</td>\n",
       "      <td>0</td>\n",
       "      <td>4</td>\n",
       "    </tr>\n",
       "    <tr>\n",
       "      <th>24</th>\n",
       "      <td>2024-01-02 00:00:00</td>\n",
       "      <td>1</td>\n",
       "      <td>4</td>\n",
       "    </tr>\n",
       "  </tbody>\n",
       "</table>\n",
       "</div>"
      ],
      "text/plain": [
       "           pickup_hour  rides_count  pickup_location_id\n",
       "0  2024-01-01 00:00:00           25                   4\n",
       "1  2024-01-01 01:00:00           29                   4\n",
       "2  2024-01-01 02:00:00           34                   4\n",
       "3  2024-01-01 03:00:00           31                   4\n",
       "4  2024-01-01 04:00:00           32                   4\n",
       "5  2024-01-01 05:00:00            8                   4\n",
       "6  2024-01-01 06:00:00            6                   4\n",
       "7  2024-01-01 07:00:00            4                   4\n",
       "8  2024-01-01 08:00:00            0                   4\n",
       "9  2024-01-01 09:00:00            1                   4\n",
       "10 2024-01-01 10:00:00            3                   4\n",
       "11 2024-01-01 11:00:00            5                   4\n",
       "12 2024-01-01 12:00:00            5                   4\n",
       "13 2024-01-01 13:00:00            1                   4\n",
       "14 2024-01-01 14:00:00            6                   4\n",
       "15 2024-01-01 15:00:00            4                   4\n",
       "16 2024-01-01 16:00:00            0                   4\n",
       "17 2024-01-01 17:00:00            2                   4\n",
       "18 2024-01-01 18:00:00            1                   4\n",
       "19 2024-01-01 19:00:00            2                   4\n",
       "20 2024-01-01 20:00:00            2                   4\n",
       "21 2024-01-01 21:00:00            5                   4\n",
       "22 2024-01-01 22:00:00            1                   4\n",
       "23 2024-01-01 23:00:00            0                   4\n",
       "24 2024-01-02 00:00:00            1                   4"
      ]
     },
     "execution_count": 14,
     "metadata": {},
     "output_type": "execute_result"
    }
   ],
   "source": [
    "agg_rides_all_slots = add_missing_rows(agg_rides)"
   ]
  },
  {
   "cell_type": "code",
   "execution_count": 23,
   "metadata": {},
   "outputs": [
    {
     "data": {
      "text/html": [
       "<div>\n",
       "<style scoped>\n",
       "    .dataframe tbody tr th:only-of-type {\n",
       "        vertical-align: middle;\n",
       "    }\n",
       "\n",
       "    .dataframe tbody tr th {\n",
       "        vertical-align: top;\n",
       "    }\n",
       "\n",
       "    .dataframe thead th {\n",
       "        text-align: right;\n",
       "    }\n",
       "</style>\n",
       "<table border=\"1\" class=\"dataframe\">\n",
       "  <thead>\n",
       "    <tr style=\"text-align: right;\">\n",
       "      <th></th>\n",
       "      <th>pickup_hour</th>\n",
       "      <th>rides_count</th>\n",
       "      <th>pickup_location_id</th>\n",
       "    </tr>\n",
       "  </thead>\n",
       "  <tbody>\n",
       "    <tr>\n",
       "      <th>0</th>\n",
       "      <td>2024-01-01 00:00:00</td>\n",
       "      <td>25</td>\n",
       "      <td>4</td>\n",
       "    </tr>\n",
       "    <tr>\n",
       "      <th>1</th>\n",
       "      <td>2024-01-01 01:00:00</td>\n",
       "      <td>29</td>\n",
       "      <td>4</td>\n",
       "    </tr>\n",
       "    <tr>\n",
       "      <th>2</th>\n",
       "      <td>2024-01-01 02:00:00</td>\n",
       "      <td>34</td>\n",
       "      <td>4</td>\n",
       "    </tr>\n",
       "    <tr>\n",
       "      <th>3</th>\n",
       "      <td>2024-01-01 03:00:00</td>\n",
       "      <td>31</td>\n",
       "      <td>4</td>\n",
       "    </tr>\n",
       "    <tr>\n",
       "      <th>4</th>\n",
       "      <td>2024-01-01 04:00:00</td>\n",
       "      <td>32</td>\n",
       "      <td>4</td>\n",
       "    </tr>\n",
       "    <tr>\n",
       "      <th>5</th>\n",
       "      <td>2024-01-01 05:00:00</td>\n",
       "      <td>8</td>\n",
       "      <td>4</td>\n",
       "    </tr>\n",
       "    <tr>\n",
       "      <th>6</th>\n",
       "      <td>2024-01-01 06:00:00</td>\n",
       "      <td>6</td>\n",
       "      <td>4</td>\n",
       "    </tr>\n",
       "    <tr>\n",
       "      <th>7</th>\n",
       "      <td>2024-01-01 07:00:00</td>\n",
       "      <td>4</td>\n",
       "      <td>4</td>\n",
       "    </tr>\n",
       "    <tr>\n",
       "      <th>8</th>\n",
       "      <td>2024-01-01 08:00:00</td>\n",
       "      <td>0</td>\n",
       "      <td>4</td>\n",
       "    </tr>\n",
       "    <tr>\n",
       "      <th>9</th>\n",
       "      <td>2024-01-01 09:00:00</td>\n",
       "      <td>1</td>\n",
       "      <td>4</td>\n",
       "    </tr>\n",
       "    <tr>\n",
       "      <th>10</th>\n",
       "      <td>2024-01-01 10:00:00</td>\n",
       "      <td>3</td>\n",
       "      <td>4</td>\n",
       "    </tr>\n",
       "    <tr>\n",
       "      <th>11</th>\n",
       "      <td>2024-01-01 11:00:00</td>\n",
       "      <td>5</td>\n",
       "      <td>4</td>\n",
       "    </tr>\n",
       "    <tr>\n",
       "      <th>12</th>\n",
       "      <td>2024-01-01 12:00:00</td>\n",
       "      <td>5</td>\n",
       "      <td>4</td>\n",
       "    </tr>\n",
       "    <tr>\n",
       "      <th>13</th>\n",
       "      <td>2024-01-01 13:00:00</td>\n",
       "      <td>1</td>\n",
       "      <td>4</td>\n",
       "    </tr>\n",
       "    <tr>\n",
       "      <th>14</th>\n",
       "      <td>2024-01-01 14:00:00</td>\n",
       "      <td>6</td>\n",
       "      <td>4</td>\n",
       "    </tr>\n",
       "    <tr>\n",
       "      <th>15</th>\n",
       "      <td>2024-01-01 15:00:00</td>\n",
       "      <td>4</td>\n",
       "      <td>4</td>\n",
       "    </tr>\n",
       "    <tr>\n",
       "      <th>16</th>\n",
       "      <td>2024-01-01 16:00:00</td>\n",
       "      <td>0</td>\n",
       "      <td>4</td>\n",
       "    </tr>\n",
       "    <tr>\n",
       "      <th>17</th>\n",
       "      <td>2024-01-01 17:00:00</td>\n",
       "      <td>2</td>\n",
       "      <td>4</td>\n",
       "    </tr>\n",
       "    <tr>\n",
       "      <th>18</th>\n",
       "      <td>2024-01-01 18:00:00</td>\n",
       "      <td>1</td>\n",
       "      <td>4</td>\n",
       "    </tr>\n",
       "    <tr>\n",
       "      <th>19</th>\n",
       "      <td>2024-01-01 19:00:00</td>\n",
       "      <td>2</td>\n",
       "      <td>4</td>\n",
       "    </tr>\n",
       "    <tr>\n",
       "      <th>20</th>\n",
       "      <td>2024-01-01 20:00:00</td>\n",
       "      <td>2</td>\n",
       "      <td>4</td>\n",
       "    </tr>\n",
       "    <tr>\n",
       "      <th>21</th>\n",
       "      <td>2024-01-01 21:00:00</td>\n",
       "      <td>5</td>\n",
       "      <td>4</td>\n",
       "    </tr>\n",
       "    <tr>\n",
       "      <th>22</th>\n",
       "      <td>2024-01-01 22:00:00</td>\n",
       "      <td>1</td>\n",
       "      <td>4</td>\n",
       "    </tr>\n",
       "    <tr>\n",
       "      <th>23</th>\n",
       "      <td>2024-01-01 23:00:00</td>\n",
       "      <td>0</td>\n",
       "      <td>4</td>\n",
       "    </tr>\n",
       "    <tr>\n",
       "      <th>24</th>\n",
       "      <td>2024-01-02 00:00:00</td>\n",
       "      <td>1</td>\n",
       "      <td>4</td>\n",
       "    </tr>\n",
       "    <tr>\n",
       "      <th>25</th>\n",
       "      <td>2024-01-02 01:00:00</td>\n",
       "      <td>2</td>\n",
       "      <td>4</td>\n",
       "    </tr>\n",
       "    <tr>\n",
       "      <th>26</th>\n",
       "      <td>2024-01-02 02:00:00</td>\n",
       "      <td>1</td>\n",
       "      <td>4</td>\n",
       "    </tr>\n",
       "    <tr>\n",
       "      <th>27</th>\n",
       "      <td>2024-01-02 03:00:00</td>\n",
       "      <td>0</td>\n",
       "      <td>4</td>\n",
       "    </tr>\n",
       "    <tr>\n",
       "      <th>28</th>\n",
       "      <td>2024-01-02 04:00:00</td>\n",
       "      <td>0</td>\n",
       "      <td>4</td>\n",
       "    </tr>\n",
       "    <tr>\n",
       "      <th>29</th>\n",
       "      <td>2024-01-02 05:00:00</td>\n",
       "      <td>1</td>\n",
       "      <td>4</td>\n",
       "    </tr>\n",
       "  </tbody>\n",
       "</table>\n",
       "</div>"
      ],
      "text/plain": [
       "           pickup_hour  rides_count  pickup_location_id\n",
       "0  2024-01-01 00:00:00           25                   4\n",
       "1  2024-01-01 01:00:00           29                   4\n",
       "2  2024-01-01 02:00:00           34                   4\n",
       "3  2024-01-01 03:00:00           31                   4\n",
       "4  2024-01-01 04:00:00           32                   4\n",
       "5  2024-01-01 05:00:00            8                   4\n",
       "6  2024-01-01 06:00:00            6                   4\n",
       "7  2024-01-01 07:00:00            4                   4\n",
       "8  2024-01-01 08:00:00            0                   4\n",
       "9  2024-01-01 09:00:00            1                   4\n",
       "10 2024-01-01 10:00:00            3                   4\n",
       "11 2024-01-01 11:00:00            5                   4\n",
       "12 2024-01-01 12:00:00            5                   4\n",
       "13 2024-01-01 13:00:00            1                   4\n",
       "14 2024-01-01 14:00:00            6                   4\n",
       "15 2024-01-01 15:00:00            4                   4\n",
       "16 2024-01-01 16:00:00            0                   4\n",
       "17 2024-01-01 17:00:00            2                   4\n",
       "18 2024-01-01 18:00:00            1                   4\n",
       "19 2024-01-01 19:00:00            2                   4\n",
       "20 2024-01-01 20:00:00            2                   4\n",
       "21 2024-01-01 21:00:00            5                   4\n",
       "22 2024-01-01 22:00:00            1                   4\n",
       "23 2024-01-01 23:00:00            0                   4\n",
       "24 2024-01-02 00:00:00            1                   4\n",
       "25 2024-01-02 01:00:00            2                   4\n",
       "26 2024-01-02 02:00:00            1                   4\n",
       "27 2024-01-02 03:00:00            0                   4\n",
       "28 2024-01-02 04:00:00            0                   4\n",
       "29 2024-01-02 05:00:00            1                   4"
      ]
     },
     "execution_count": 23,
     "metadata": {},
     "output_type": "execute_result"
    }
   ],
   "source": [
    "agg_rides_all_slots[agg_rides_all_slots[\"pickup_location_id\"] == 4].head(30)"
   ]
  },
  {
   "cell_type": "markdown",
   "metadata": {},
   "source": [
    "# PLOTLY TO VISUALIZE TIME SERIES"
   ]
  },
  {
   "cell_type": "code",
   "execution_count": 11,
   "metadata": {},
   "outputs": [
    {
     "data": {
      "application/vnd.plotly.v1+json": {
       "config": {
        "plotlyServerURL": "https://plot.ly"
       },
       "data": [
        {
         "hovertemplate": "pickup_hour=%{x}<br>rides_count=%{y}<extra></extra>",
         "legendgroup": "",
         "line": {
          "color": "#636efa",
          "dash": "solid"
         },
         "marker": {
          "symbol": "circle"
         },
         "mode": "lines",
         "name": "",
         "orientation": "v",
         "showlegend": false,
         "type": "scatter",
         "x": [
          "2024-01-01T00:00:00.000000000",
          "2024-01-01T01:00:00.000000000",
          "2024-01-01T02:00:00.000000000",
          "2024-01-01T03:00:00.000000000",
          "2024-01-01T04:00:00.000000000",
          "2024-01-01T05:00:00.000000000",
          "2024-01-01T06:00:00.000000000",
          "2024-01-01T07:00:00.000000000",
          "2024-01-01T08:00:00.000000000",
          "2024-01-01T09:00:00.000000000",
          "2024-01-01T10:00:00.000000000",
          "2024-01-01T11:00:00.000000000",
          "2024-01-01T12:00:00.000000000",
          "2024-01-01T13:00:00.000000000",
          "2024-01-01T14:00:00.000000000",
          "2024-01-01T15:00:00.000000000",
          "2024-01-01T16:00:00.000000000",
          "2024-01-01T17:00:00.000000000",
          "2024-01-01T18:00:00.000000000",
          "2024-01-01T19:00:00.000000000",
          "2024-01-01T20:00:00.000000000",
          "2024-01-01T21:00:00.000000000",
          "2024-01-01T22:00:00.000000000",
          "2024-01-01T23:00:00.000000000",
          "2024-01-02T00:00:00.000000000",
          "2024-01-02T01:00:00.000000000",
          "2024-01-02T02:00:00.000000000",
          "2024-01-02T03:00:00.000000000",
          "2024-01-02T04:00:00.000000000",
          "2024-01-02T05:00:00.000000000",
          "2024-01-02T06:00:00.000000000",
          "2024-01-02T07:00:00.000000000",
          "2024-01-02T08:00:00.000000000",
          "2024-01-02T09:00:00.000000000",
          "2024-01-02T10:00:00.000000000",
          "2024-01-02T11:00:00.000000000",
          "2024-01-02T12:00:00.000000000",
          "2024-01-02T13:00:00.000000000",
          "2024-01-02T14:00:00.000000000",
          "2024-01-02T15:00:00.000000000",
          "2024-01-02T16:00:00.000000000",
          "2024-01-02T17:00:00.000000000",
          "2024-01-02T18:00:00.000000000",
          "2024-01-02T19:00:00.000000000",
          "2024-01-02T20:00:00.000000000",
          "2024-01-02T21:00:00.000000000",
          "2024-01-02T22:00:00.000000000",
          "2024-01-02T23:00:00.000000000",
          "2024-01-03T00:00:00.000000000",
          "2024-01-03T01:00:00.000000000",
          "2024-01-03T02:00:00.000000000",
          "2024-01-03T03:00:00.000000000",
          "2024-01-03T04:00:00.000000000",
          "2024-01-03T05:00:00.000000000",
          "2024-01-03T06:00:00.000000000",
          "2024-01-03T07:00:00.000000000",
          "2024-01-03T08:00:00.000000000",
          "2024-01-03T09:00:00.000000000",
          "2024-01-03T10:00:00.000000000",
          "2024-01-03T11:00:00.000000000",
          "2024-01-03T12:00:00.000000000",
          "2024-01-03T13:00:00.000000000",
          "2024-01-03T14:00:00.000000000",
          "2024-01-03T15:00:00.000000000",
          "2024-01-03T16:00:00.000000000",
          "2024-01-03T17:00:00.000000000",
          "2024-01-03T18:00:00.000000000",
          "2024-01-03T19:00:00.000000000",
          "2024-01-03T20:00:00.000000000",
          "2024-01-03T21:00:00.000000000",
          "2024-01-03T22:00:00.000000000",
          "2024-01-03T23:00:00.000000000",
          "2024-01-04T00:00:00.000000000",
          "2024-01-04T01:00:00.000000000",
          "2024-01-04T02:00:00.000000000",
          "2024-01-04T03:00:00.000000000",
          "2024-01-04T04:00:00.000000000",
          "2024-01-04T05:00:00.000000000",
          "2024-01-04T06:00:00.000000000",
          "2024-01-04T07:00:00.000000000",
          "2024-01-04T08:00:00.000000000",
          "2024-01-04T09:00:00.000000000",
          "2024-01-04T10:00:00.000000000",
          "2024-01-04T11:00:00.000000000",
          "2024-01-04T12:00:00.000000000",
          "2024-01-04T13:00:00.000000000",
          "2024-01-04T14:00:00.000000000",
          "2024-01-04T15:00:00.000000000",
          "2024-01-04T16:00:00.000000000",
          "2024-01-04T17:00:00.000000000",
          "2024-01-04T18:00:00.000000000",
          "2024-01-04T19:00:00.000000000",
          "2024-01-04T20:00:00.000000000",
          "2024-01-04T21:00:00.000000000",
          "2024-01-04T22:00:00.000000000",
          "2024-01-04T23:00:00.000000000",
          "2024-01-05T00:00:00.000000000",
          "2024-01-05T01:00:00.000000000",
          "2024-01-05T02:00:00.000000000",
          "2024-01-05T03:00:00.000000000",
          "2024-01-05T04:00:00.000000000",
          "2024-01-05T05:00:00.000000000",
          "2024-01-05T06:00:00.000000000",
          "2024-01-05T07:00:00.000000000",
          "2024-01-05T08:00:00.000000000",
          "2024-01-05T09:00:00.000000000",
          "2024-01-05T10:00:00.000000000",
          "2024-01-05T11:00:00.000000000",
          "2024-01-05T12:00:00.000000000",
          "2024-01-05T13:00:00.000000000",
          "2024-01-05T14:00:00.000000000",
          "2024-01-05T15:00:00.000000000",
          "2024-01-05T16:00:00.000000000",
          "2024-01-05T17:00:00.000000000",
          "2024-01-05T18:00:00.000000000",
          "2024-01-05T19:00:00.000000000",
          "2024-01-05T20:00:00.000000000",
          "2024-01-05T21:00:00.000000000",
          "2024-01-05T22:00:00.000000000",
          "2024-01-05T23:00:00.000000000",
          "2024-01-06T00:00:00.000000000",
          "2024-01-06T01:00:00.000000000",
          "2024-01-06T02:00:00.000000000",
          "2024-01-06T03:00:00.000000000",
          "2024-01-06T04:00:00.000000000",
          "2024-01-06T05:00:00.000000000",
          "2024-01-06T06:00:00.000000000",
          "2024-01-06T07:00:00.000000000",
          "2024-01-06T08:00:00.000000000",
          "2024-01-06T09:00:00.000000000",
          "2024-01-06T10:00:00.000000000",
          "2024-01-06T11:00:00.000000000",
          "2024-01-06T12:00:00.000000000",
          "2024-01-06T13:00:00.000000000",
          "2024-01-06T14:00:00.000000000",
          "2024-01-06T15:00:00.000000000",
          "2024-01-06T16:00:00.000000000",
          "2024-01-06T17:00:00.000000000",
          "2024-01-06T18:00:00.000000000",
          "2024-01-06T19:00:00.000000000",
          "2024-01-06T20:00:00.000000000",
          "2024-01-06T21:00:00.000000000",
          "2024-01-06T22:00:00.000000000",
          "2024-01-06T23:00:00.000000000",
          "2024-01-07T00:00:00.000000000",
          "2024-01-07T01:00:00.000000000",
          "2024-01-07T02:00:00.000000000",
          "2024-01-07T03:00:00.000000000",
          "2024-01-07T04:00:00.000000000",
          "2024-01-07T05:00:00.000000000",
          "2024-01-07T06:00:00.000000000",
          "2024-01-07T07:00:00.000000000",
          "2024-01-07T08:00:00.000000000",
          "2024-01-07T09:00:00.000000000",
          "2024-01-07T10:00:00.000000000",
          "2024-01-07T11:00:00.000000000",
          "2024-01-07T12:00:00.000000000",
          "2024-01-07T13:00:00.000000000",
          "2024-01-07T14:00:00.000000000",
          "2024-01-07T15:00:00.000000000",
          "2024-01-07T16:00:00.000000000",
          "2024-01-07T17:00:00.000000000",
          "2024-01-07T18:00:00.000000000",
          "2024-01-07T19:00:00.000000000",
          "2024-01-07T20:00:00.000000000",
          "2024-01-07T21:00:00.000000000",
          "2024-01-07T22:00:00.000000000",
          "2024-01-07T23:00:00.000000000",
          "2024-01-08T00:00:00.000000000",
          "2024-01-08T01:00:00.000000000",
          "2024-01-08T02:00:00.000000000",
          "2024-01-08T03:00:00.000000000",
          "2024-01-08T04:00:00.000000000",
          "2024-01-08T05:00:00.000000000",
          "2024-01-08T06:00:00.000000000",
          "2024-01-08T07:00:00.000000000",
          "2024-01-08T08:00:00.000000000",
          "2024-01-08T09:00:00.000000000",
          "2024-01-08T10:00:00.000000000",
          "2024-01-08T11:00:00.000000000",
          "2024-01-08T12:00:00.000000000",
          "2024-01-08T13:00:00.000000000",
          "2024-01-08T14:00:00.000000000",
          "2024-01-08T15:00:00.000000000",
          "2024-01-08T16:00:00.000000000",
          "2024-01-08T17:00:00.000000000",
          "2024-01-08T18:00:00.000000000",
          "2024-01-08T19:00:00.000000000",
          "2024-01-08T20:00:00.000000000",
          "2024-01-08T21:00:00.000000000",
          "2024-01-08T22:00:00.000000000",
          "2024-01-08T23:00:00.000000000",
          "2024-01-09T00:00:00.000000000",
          "2024-01-09T01:00:00.000000000",
          "2024-01-09T02:00:00.000000000",
          "2024-01-09T03:00:00.000000000",
          "2024-01-09T04:00:00.000000000",
          "2024-01-09T05:00:00.000000000",
          "2024-01-09T06:00:00.000000000",
          "2024-01-09T07:00:00.000000000",
          "2024-01-09T08:00:00.000000000",
          "2024-01-09T09:00:00.000000000",
          "2024-01-09T10:00:00.000000000",
          "2024-01-09T11:00:00.000000000",
          "2024-01-09T12:00:00.000000000",
          "2024-01-09T13:00:00.000000000",
          "2024-01-09T14:00:00.000000000",
          "2024-01-09T15:00:00.000000000",
          "2024-01-09T16:00:00.000000000",
          "2024-01-09T17:00:00.000000000",
          "2024-01-09T18:00:00.000000000",
          "2024-01-09T19:00:00.000000000",
          "2024-01-09T20:00:00.000000000",
          "2024-01-09T21:00:00.000000000",
          "2024-01-09T22:00:00.000000000",
          "2024-01-09T23:00:00.000000000",
          "2024-01-10T00:00:00.000000000",
          "2024-01-10T01:00:00.000000000",
          "2024-01-10T02:00:00.000000000",
          "2024-01-10T03:00:00.000000000",
          "2024-01-10T04:00:00.000000000",
          "2024-01-10T05:00:00.000000000",
          "2024-01-10T06:00:00.000000000",
          "2024-01-10T07:00:00.000000000",
          "2024-01-10T08:00:00.000000000",
          "2024-01-10T09:00:00.000000000",
          "2024-01-10T10:00:00.000000000",
          "2024-01-10T11:00:00.000000000",
          "2024-01-10T12:00:00.000000000",
          "2024-01-10T13:00:00.000000000",
          "2024-01-10T14:00:00.000000000",
          "2024-01-10T15:00:00.000000000",
          "2024-01-10T16:00:00.000000000",
          "2024-01-10T17:00:00.000000000",
          "2024-01-10T18:00:00.000000000",
          "2024-01-10T19:00:00.000000000",
          "2024-01-10T20:00:00.000000000",
          "2024-01-10T21:00:00.000000000",
          "2024-01-10T22:00:00.000000000",
          "2024-01-10T23:00:00.000000000",
          "2024-01-11T00:00:00.000000000",
          "2024-01-11T01:00:00.000000000",
          "2024-01-11T02:00:00.000000000",
          "2024-01-11T03:00:00.000000000",
          "2024-01-11T04:00:00.000000000",
          "2024-01-11T05:00:00.000000000",
          "2024-01-11T06:00:00.000000000",
          "2024-01-11T07:00:00.000000000",
          "2024-01-11T08:00:00.000000000",
          "2024-01-11T09:00:00.000000000",
          "2024-01-11T10:00:00.000000000",
          "2024-01-11T11:00:00.000000000",
          "2024-01-11T12:00:00.000000000",
          "2024-01-11T13:00:00.000000000",
          "2024-01-11T14:00:00.000000000",
          "2024-01-11T15:00:00.000000000",
          "2024-01-11T16:00:00.000000000",
          "2024-01-11T17:00:00.000000000",
          "2024-01-11T18:00:00.000000000",
          "2024-01-11T19:00:00.000000000",
          "2024-01-11T20:00:00.000000000",
          "2024-01-11T21:00:00.000000000",
          "2024-01-11T22:00:00.000000000",
          "2024-01-11T23:00:00.000000000",
          "2024-01-12T00:00:00.000000000",
          "2024-01-12T01:00:00.000000000",
          "2024-01-12T02:00:00.000000000",
          "2024-01-12T03:00:00.000000000",
          "2024-01-12T04:00:00.000000000",
          "2024-01-12T05:00:00.000000000",
          "2024-01-12T06:00:00.000000000",
          "2024-01-12T07:00:00.000000000",
          "2024-01-12T08:00:00.000000000",
          "2024-01-12T09:00:00.000000000",
          "2024-01-12T10:00:00.000000000",
          "2024-01-12T11:00:00.000000000",
          "2024-01-12T12:00:00.000000000",
          "2024-01-12T13:00:00.000000000",
          "2024-01-12T14:00:00.000000000",
          "2024-01-12T15:00:00.000000000",
          "2024-01-12T16:00:00.000000000",
          "2024-01-12T17:00:00.000000000",
          "2024-01-12T18:00:00.000000000",
          "2024-01-12T19:00:00.000000000",
          "2024-01-12T20:00:00.000000000",
          "2024-01-12T21:00:00.000000000",
          "2024-01-12T22:00:00.000000000",
          "2024-01-12T23:00:00.000000000",
          "2024-01-13T00:00:00.000000000",
          "2024-01-13T01:00:00.000000000",
          "2024-01-13T02:00:00.000000000",
          "2024-01-13T03:00:00.000000000",
          "2024-01-13T04:00:00.000000000",
          "2024-01-13T05:00:00.000000000",
          "2024-01-13T06:00:00.000000000",
          "2024-01-13T07:00:00.000000000",
          "2024-01-13T08:00:00.000000000",
          "2024-01-13T09:00:00.000000000",
          "2024-01-13T10:00:00.000000000",
          "2024-01-13T11:00:00.000000000",
          "2024-01-13T12:00:00.000000000",
          "2024-01-13T13:00:00.000000000",
          "2024-01-13T14:00:00.000000000",
          "2024-01-13T15:00:00.000000000",
          "2024-01-13T16:00:00.000000000",
          "2024-01-13T17:00:00.000000000",
          "2024-01-13T18:00:00.000000000",
          "2024-01-13T19:00:00.000000000",
          "2024-01-13T20:00:00.000000000",
          "2024-01-13T21:00:00.000000000",
          "2024-01-13T22:00:00.000000000",
          "2024-01-13T23:00:00.000000000",
          "2024-01-14T00:00:00.000000000",
          "2024-01-14T01:00:00.000000000",
          "2024-01-14T02:00:00.000000000",
          "2024-01-14T03:00:00.000000000",
          "2024-01-14T04:00:00.000000000",
          "2024-01-14T05:00:00.000000000",
          "2024-01-14T06:00:00.000000000",
          "2024-01-14T07:00:00.000000000",
          "2024-01-14T08:00:00.000000000",
          "2024-01-14T09:00:00.000000000",
          "2024-01-14T10:00:00.000000000",
          "2024-01-14T11:00:00.000000000",
          "2024-01-14T12:00:00.000000000",
          "2024-01-14T13:00:00.000000000",
          "2024-01-14T14:00:00.000000000",
          "2024-01-14T15:00:00.000000000",
          "2024-01-14T16:00:00.000000000",
          "2024-01-14T17:00:00.000000000",
          "2024-01-14T18:00:00.000000000",
          "2024-01-14T19:00:00.000000000",
          "2024-01-14T20:00:00.000000000",
          "2024-01-14T21:00:00.000000000",
          "2024-01-14T22:00:00.000000000",
          "2024-01-14T23:00:00.000000000",
          "2024-01-15T00:00:00.000000000",
          "2024-01-15T01:00:00.000000000",
          "2024-01-15T02:00:00.000000000",
          "2024-01-15T03:00:00.000000000",
          "2024-01-15T04:00:00.000000000",
          "2024-01-15T05:00:00.000000000",
          "2024-01-15T06:00:00.000000000",
          "2024-01-15T07:00:00.000000000",
          "2024-01-15T08:00:00.000000000",
          "2024-01-15T09:00:00.000000000",
          "2024-01-15T10:00:00.000000000",
          "2024-01-15T11:00:00.000000000",
          "2024-01-15T12:00:00.000000000",
          "2024-01-15T13:00:00.000000000",
          "2024-01-15T14:00:00.000000000",
          "2024-01-15T15:00:00.000000000",
          "2024-01-15T16:00:00.000000000",
          "2024-01-15T17:00:00.000000000",
          "2024-01-15T18:00:00.000000000",
          "2024-01-15T19:00:00.000000000",
          "2024-01-15T20:00:00.000000000",
          "2024-01-15T21:00:00.000000000",
          "2024-01-15T22:00:00.000000000",
          "2024-01-15T23:00:00.000000000",
          "2024-01-16T00:00:00.000000000",
          "2024-01-16T01:00:00.000000000",
          "2024-01-16T02:00:00.000000000",
          "2024-01-16T03:00:00.000000000",
          "2024-01-16T04:00:00.000000000",
          "2024-01-16T05:00:00.000000000",
          "2024-01-16T06:00:00.000000000",
          "2024-01-16T07:00:00.000000000",
          "2024-01-16T08:00:00.000000000",
          "2024-01-16T09:00:00.000000000",
          "2024-01-16T10:00:00.000000000",
          "2024-01-16T11:00:00.000000000",
          "2024-01-16T12:00:00.000000000",
          "2024-01-16T13:00:00.000000000",
          "2024-01-16T14:00:00.000000000",
          "2024-01-16T15:00:00.000000000",
          "2024-01-16T16:00:00.000000000",
          "2024-01-16T17:00:00.000000000",
          "2024-01-16T18:00:00.000000000",
          "2024-01-16T19:00:00.000000000",
          "2024-01-16T20:00:00.000000000",
          "2024-01-16T21:00:00.000000000",
          "2024-01-16T22:00:00.000000000",
          "2024-01-16T23:00:00.000000000",
          "2024-01-17T00:00:00.000000000",
          "2024-01-17T01:00:00.000000000",
          "2024-01-17T02:00:00.000000000",
          "2024-01-17T03:00:00.000000000",
          "2024-01-17T04:00:00.000000000",
          "2024-01-17T05:00:00.000000000",
          "2024-01-17T06:00:00.000000000",
          "2024-01-17T07:00:00.000000000",
          "2024-01-17T08:00:00.000000000",
          "2024-01-17T09:00:00.000000000",
          "2024-01-17T10:00:00.000000000",
          "2024-01-17T11:00:00.000000000",
          "2024-01-17T12:00:00.000000000",
          "2024-01-17T13:00:00.000000000",
          "2024-01-17T14:00:00.000000000",
          "2024-01-17T15:00:00.000000000",
          "2024-01-17T16:00:00.000000000",
          "2024-01-17T17:00:00.000000000",
          "2024-01-17T18:00:00.000000000",
          "2024-01-17T19:00:00.000000000",
          "2024-01-17T20:00:00.000000000",
          "2024-01-17T21:00:00.000000000",
          "2024-01-17T22:00:00.000000000",
          "2024-01-17T23:00:00.000000000",
          "2024-01-18T00:00:00.000000000",
          "2024-01-18T01:00:00.000000000",
          "2024-01-18T02:00:00.000000000",
          "2024-01-18T03:00:00.000000000",
          "2024-01-18T04:00:00.000000000",
          "2024-01-18T05:00:00.000000000",
          "2024-01-18T06:00:00.000000000",
          "2024-01-18T07:00:00.000000000",
          "2024-01-18T08:00:00.000000000",
          "2024-01-18T09:00:00.000000000",
          "2024-01-18T10:00:00.000000000",
          "2024-01-18T11:00:00.000000000",
          "2024-01-18T12:00:00.000000000",
          "2024-01-18T13:00:00.000000000",
          "2024-01-18T14:00:00.000000000",
          "2024-01-18T15:00:00.000000000",
          "2024-01-18T16:00:00.000000000",
          "2024-01-18T17:00:00.000000000",
          "2024-01-18T18:00:00.000000000",
          "2024-01-18T19:00:00.000000000",
          "2024-01-18T20:00:00.000000000",
          "2024-01-18T21:00:00.000000000",
          "2024-01-18T22:00:00.000000000",
          "2024-01-18T23:00:00.000000000",
          "2024-01-19T00:00:00.000000000",
          "2024-01-19T01:00:00.000000000",
          "2024-01-19T02:00:00.000000000",
          "2024-01-19T03:00:00.000000000",
          "2024-01-19T04:00:00.000000000",
          "2024-01-19T05:00:00.000000000",
          "2024-01-19T06:00:00.000000000",
          "2024-01-19T07:00:00.000000000",
          "2024-01-19T08:00:00.000000000",
          "2024-01-19T09:00:00.000000000",
          "2024-01-19T10:00:00.000000000",
          "2024-01-19T11:00:00.000000000",
          "2024-01-19T12:00:00.000000000",
          "2024-01-19T13:00:00.000000000",
          "2024-01-19T14:00:00.000000000",
          "2024-01-19T15:00:00.000000000",
          "2024-01-19T16:00:00.000000000",
          "2024-01-19T17:00:00.000000000",
          "2024-01-19T18:00:00.000000000",
          "2024-01-19T19:00:00.000000000",
          "2024-01-19T20:00:00.000000000",
          "2024-01-19T21:00:00.000000000",
          "2024-01-19T22:00:00.000000000",
          "2024-01-19T23:00:00.000000000",
          "2024-01-20T00:00:00.000000000",
          "2024-01-20T01:00:00.000000000",
          "2024-01-20T02:00:00.000000000",
          "2024-01-20T03:00:00.000000000",
          "2024-01-20T04:00:00.000000000",
          "2024-01-20T05:00:00.000000000",
          "2024-01-20T06:00:00.000000000",
          "2024-01-20T07:00:00.000000000",
          "2024-01-20T08:00:00.000000000",
          "2024-01-20T09:00:00.000000000",
          "2024-01-20T10:00:00.000000000",
          "2024-01-20T11:00:00.000000000",
          "2024-01-20T12:00:00.000000000",
          "2024-01-20T13:00:00.000000000",
          "2024-01-20T14:00:00.000000000",
          "2024-01-20T15:00:00.000000000",
          "2024-01-20T16:00:00.000000000",
          "2024-01-20T17:00:00.000000000",
          "2024-01-20T18:00:00.000000000",
          "2024-01-20T19:00:00.000000000",
          "2024-01-20T20:00:00.000000000",
          "2024-01-20T21:00:00.000000000",
          "2024-01-20T22:00:00.000000000",
          "2024-01-20T23:00:00.000000000",
          "2024-01-21T00:00:00.000000000",
          "2024-01-21T01:00:00.000000000",
          "2024-01-21T02:00:00.000000000",
          "2024-01-21T03:00:00.000000000",
          "2024-01-21T04:00:00.000000000",
          "2024-01-21T05:00:00.000000000",
          "2024-01-21T06:00:00.000000000",
          "2024-01-21T07:00:00.000000000",
          "2024-01-21T08:00:00.000000000",
          "2024-01-21T09:00:00.000000000",
          "2024-01-21T10:00:00.000000000",
          "2024-01-21T11:00:00.000000000",
          "2024-01-21T12:00:00.000000000",
          "2024-01-21T13:00:00.000000000",
          "2024-01-21T14:00:00.000000000",
          "2024-01-21T15:00:00.000000000",
          "2024-01-21T16:00:00.000000000",
          "2024-01-21T17:00:00.000000000",
          "2024-01-21T18:00:00.000000000",
          "2024-01-21T19:00:00.000000000",
          "2024-01-21T20:00:00.000000000",
          "2024-01-21T21:00:00.000000000",
          "2024-01-21T22:00:00.000000000",
          "2024-01-21T23:00:00.000000000",
          "2024-01-22T00:00:00.000000000",
          "2024-01-22T01:00:00.000000000",
          "2024-01-22T02:00:00.000000000",
          "2024-01-22T03:00:00.000000000",
          "2024-01-22T04:00:00.000000000",
          "2024-01-22T05:00:00.000000000",
          "2024-01-22T06:00:00.000000000",
          "2024-01-22T07:00:00.000000000",
          "2024-01-22T08:00:00.000000000",
          "2024-01-22T09:00:00.000000000",
          "2024-01-22T10:00:00.000000000",
          "2024-01-22T11:00:00.000000000",
          "2024-01-22T12:00:00.000000000",
          "2024-01-22T13:00:00.000000000",
          "2024-01-22T14:00:00.000000000",
          "2024-01-22T15:00:00.000000000",
          "2024-01-22T16:00:00.000000000",
          "2024-01-22T17:00:00.000000000",
          "2024-01-22T18:00:00.000000000",
          "2024-01-22T19:00:00.000000000",
          "2024-01-22T20:00:00.000000000",
          "2024-01-22T21:00:00.000000000",
          "2024-01-22T22:00:00.000000000",
          "2024-01-22T23:00:00.000000000",
          "2024-01-23T00:00:00.000000000",
          "2024-01-23T01:00:00.000000000",
          "2024-01-23T02:00:00.000000000",
          "2024-01-23T03:00:00.000000000",
          "2024-01-23T04:00:00.000000000",
          "2024-01-23T05:00:00.000000000",
          "2024-01-23T06:00:00.000000000",
          "2024-01-23T07:00:00.000000000",
          "2024-01-23T08:00:00.000000000",
          "2024-01-23T09:00:00.000000000",
          "2024-01-23T10:00:00.000000000",
          "2024-01-23T11:00:00.000000000",
          "2024-01-23T12:00:00.000000000",
          "2024-01-23T13:00:00.000000000",
          "2024-01-23T14:00:00.000000000",
          "2024-01-23T15:00:00.000000000",
          "2024-01-23T16:00:00.000000000",
          "2024-01-23T17:00:00.000000000",
          "2024-01-23T18:00:00.000000000",
          "2024-01-23T19:00:00.000000000",
          "2024-01-23T20:00:00.000000000",
          "2024-01-23T21:00:00.000000000",
          "2024-01-23T22:00:00.000000000",
          "2024-01-23T23:00:00.000000000",
          "2024-01-24T00:00:00.000000000",
          "2024-01-24T01:00:00.000000000",
          "2024-01-24T02:00:00.000000000",
          "2024-01-24T03:00:00.000000000",
          "2024-01-24T04:00:00.000000000",
          "2024-01-24T05:00:00.000000000",
          "2024-01-24T06:00:00.000000000",
          "2024-01-24T07:00:00.000000000",
          "2024-01-24T08:00:00.000000000",
          "2024-01-24T09:00:00.000000000",
          "2024-01-24T10:00:00.000000000",
          "2024-01-24T11:00:00.000000000",
          "2024-01-24T12:00:00.000000000",
          "2024-01-24T13:00:00.000000000",
          "2024-01-24T14:00:00.000000000",
          "2024-01-24T15:00:00.000000000",
          "2024-01-24T16:00:00.000000000",
          "2024-01-24T17:00:00.000000000",
          "2024-01-24T18:00:00.000000000",
          "2024-01-24T19:00:00.000000000",
          "2024-01-24T20:00:00.000000000",
          "2024-01-24T21:00:00.000000000",
          "2024-01-24T22:00:00.000000000",
          "2024-01-24T23:00:00.000000000",
          "2024-01-25T00:00:00.000000000",
          "2024-01-25T01:00:00.000000000",
          "2024-01-25T02:00:00.000000000",
          "2024-01-25T03:00:00.000000000",
          "2024-01-25T04:00:00.000000000",
          "2024-01-25T05:00:00.000000000",
          "2024-01-25T06:00:00.000000000",
          "2024-01-25T07:00:00.000000000",
          "2024-01-25T08:00:00.000000000",
          "2024-01-25T09:00:00.000000000",
          "2024-01-25T10:00:00.000000000",
          "2024-01-25T11:00:00.000000000",
          "2024-01-25T12:00:00.000000000",
          "2024-01-25T13:00:00.000000000",
          "2024-01-25T14:00:00.000000000",
          "2024-01-25T15:00:00.000000000",
          "2024-01-25T16:00:00.000000000",
          "2024-01-25T17:00:00.000000000",
          "2024-01-25T18:00:00.000000000",
          "2024-01-25T19:00:00.000000000",
          "2024-01-25T20:00:00.000000000",
          "2024-01-25T21:00:00.000000000",
          "2024-01-25T22:00:00.000000000",
          "2024-01-25T23:00:00.000000000",
          "2024-01-26T00:00:00.000000000",
          "2024-01-26T01:00:00.000000000",
          "2024-01-26T02:00:00.000000000",
          "2024-01-26T03:00:00.000000000",
          "2024-01-26T04:00:00.000000000",
          "2024-01-26T05:00:00.000000000",
          "2024-01-26T06:00:00.000000000",
          "2024-01-26T07:00:00.000000000",
          "2024-01-26T08:00:00.000000000",
          "2024-01-26T09:00:00.000000000",
          "2024-01-26T10:00:00.000000000",
          "2024-01-26T11:00:00.000000000",
          "2024-01-26T12:00:00.000000000",
          "2024-01-26T13:00:00.000000000",
          "2024-01-26T14:00:00.000000000",
          "2024-01-26T15:00:00.000000000",
          "2024-01-26T16:00:00.000000000",
          "2024-01-26T17:00:00.000000000",
          "2024-01-26T18:00:00.000000000",
          "2024-01-26T19:00:00.000000000",
          "2024-01-26T20:00:00.000000000",
          "2024-01-26T21:00:00.000000000",
          "2024-01-26T22:00:00.000000000",
          "2024-01-26T23:00:00.000000000",
          "2024-01-27T00:00:00.000000000",
          "2024-01-27T01:00:00.000000000",
          "2024-01-27T02:00:00.000000000",
          "2024-01-27T03:00:00.000000000",
          "2024-01-27T04:00:00.000000000",
          "2024-01-27T05:00:00.000000000",
          "2024-01-27T06:00:00.000000000",
          "2024-01-27T07:00:00.000000000",
          "2024-01-27T08:00:00.000000000",
          "2024-01-27T09:00:00.000000000",
          "2024-01-27T10:00:00.000000000",
          "2024-01-27T11:00:00.000000000",
          "2024-01-27T12:00:00.000000000",
          "2024-01-27T13:00:00.000000000",
          "2024-01-27T14:00:00.000000000",
          "2024-01-27T15:00:00.000000000",
          "2024-01-27T16:00:00.000000000",
          "2024-01-27T17:00:00.000000000",
          "2024-01-27T18:00:00.000000000",
          "2024-01-27T19:00:00.000000000",
          "2024-01-27T20:00:00.000000000",
          "2024-01-27T21:00:00.000000000",
          "2024-01-27T22:00:00.000000000",
          "2024-01-27T23:00:00.000000000",
          "2024-01-28T00:00:00.000000000",
          "2024-01-28T01:00:00.000000000",
          "2024-01-28T02:00:00.000000000",
          "2024-01-28T03:00:00.000000000",
          "2024-01-28T04:00:00.000000000",
          "2024-01-28T05:00:00.000000000",
          "2024-01-28T06:00:00.000000000",
          "2024-01-28T07:00:00.000000000",
          "2024-01-28T08:00:00.000000000",
          "2024-01-28T09:00:00.000000000",
          "2024-01-28T10:00:00.000000000",
          "2024-01-28T11:00:00.000000000",
          "2024-01-28T12:00:00.000000000",
          "2024-01-28T13:00:00.000000000",
          "2024-01-28T14:00:00.000000000",
          "2024-01-28T15:00:00.000000000",
          "2024-01-28T16:00:00.000000000",
          "2024-01-28T17:00:00.000000000",
          "2024-01-28T18:00:00.000000000",
          "2024-01-28T19:00:00.000000000",
          "2024-01-28T20:00:00.000000000",
          "2024-01-28T21:00:00.000000000",
          "2024-01-28T22:00:00.000000000",
          "2024-01-28T23:00:00.000000000",
          "2024-01-29T00:00:00.000000000",
          "2024-01-29T01:00:00.000000000",
          "2024-01-29T02:00:00.000000000",
          "2024-01-29T03:00:00.000000000",
          "2024-01-29T04:00:00.000000000",
          "2024-01-29T05:00:00.000000000",
          "2024-01-29T06:00:00.000000000",
          "2024-01-29T07:00:00.000000000",
          "2024-01-29T08:00:00.000000000",
          "2024-01-29T09:00:00.000000000",
          "2024-01-29T10:00:00.000000000",
          "2024-01-29T11:00:00.000000000",
          "2024-01-29T12:00:00.000000000",
          "2024-01-29T13:00:00.000000000",
          "2024-01-29T14:00:00.000000000",
          "2024-01-29T15:00:00.000000000",
          "2024-01-29T16:00:00.000000000",
          "2024-01-29T17:00:00.000000000",
          "2024-01-29T18:00:00.000000000",
          "2024-01-29T19:00:00.000000000",
          "2024-01-29T20:00:00.000000000",
          "2024-01-29T21:00:00.000000000",
          "2024-01-29T22:00:00.000000000",
          "2024-01-29T23:00:00.000000000",
          "2024-01-30T00:00:00.000000000",
          "2024-01-30T01:00:00.000000000",
          "2024-01-30T02:00:00.000000000",
          "2024-01-30T03:00:00.000000000",
          "2024-01-30T04:00:00.000000000",
          "2024-01-30T05:00:00.000000000",
          "2024-01-30T06:00:00.000000000",
          "2024-01-30T07:00:00.000000000",
          "2024-01-30T08:00:00.000000000",
          "2024-01-30T09:00:00.000000000",
          "2024-01-30T10:00:00.000000000",
          "2024-01-30T11:00:00.000000000",
          "2024-01-30T12:00:00.000000000",
          "2024-01-30T13:00:00.000000000",
          "2024-01-30T14:00:00.000000000",
          "2024-01-30T15:00:00.000000000",
          "2024-01-30T16:00:00.000000000",
          "2024-01-30T17:00:00.000000000",
          "2024-01-30T18:00:00.000000000",
          "2024-01-30T19:00:00.000000000",
          "2024-01-30T20:00:00.000000000",
          "2024-01-30T21:00:00.000000000",
          "2024-01-30T22:00:00.000000000",
          "2024-01-30T23:00:00.000000000",
          "2024-01-31T00:00:00.000000000",
          "2024-01-31T01:00:00.000000000",
          "2024-01-31T02:00:00.000000000",
          "2024-01-31T03:00:00.000000000",
          "2024-01-31T04:00:00.000000000",
          "2024-01-31T05:00:00.000000000",
          "2024-01-31T06:00:00.000000000",
          "2024-01-31T07:00:00.000000000",
          "2024-01-31T08:00:00.000000000",
          "2024-01-31T09:00:00.000000000",
          "2024-01-31T10:00:00.000000000",
          "2024-01-31T11:00:00.000000000",
          "2024-01-31T12:00:00.000000000",
          "2024-01-31T13:00:00.000000000",
          "2024-01-31T14:00:00.000000000",
          "2024-01-31T15:00:00.000000000",
          "2024-01-31T16:00:00.000000000",
          "2024-01-31T17:00:00.000000000",
          "2024-01-31T18:00:00.000000000",
          "2024-01-31T19:00:00.000000000",
          "2024-01-31T20:00:00.000000000",
          "2024-01-31T21:00:00.000000000",
          "2024-01-31T22:00:00.000000000",
          "2024-01-31T23:00:00.000000000"
         ],
         "xaxis": "x",
         "y": {
          "bdata": "BAMBAAEBAgIAAAAAAAEFBAAABAEDAQQAAwAAAQEAAwUBAAABAQIBAQMCAAAAAgIDBAEBAAACAgEBAAIAAQACAQIDAQEDAAABAgAAAAACAAIBAgEDAgUCAQICAQAAAQECAwAAAAABAAABAAACAAECAAIBAgEAAQIAAQAAAAAAAAEDAQAAAAIBAQAAAAEAAAECAQABAQEBAAAAAQACAwMAAAAAAwMAAAAAAQAAAAACAQEBAAEBAgECAgMCAAIAAgIAAAEAAAEAAQEBAgABAQABAAEBAQIAAQAAAAEAAAMCAQIBAgIAAQMFAQIBAgIAAAAAAgAAAQEDAQMBAQACAQICAQABAAAAAAIFAgEAAQIBAQQBAAACAgEDAQICAQICAAACAQIAAAAAAAABAQIDAQEAAgEAAAADAQACAAAAAAMBAAECAwABAQIBAAEAAQEBAgECAgEAAAEAAQAAAAMBAQEAAQAAAAEBAgIABQEAAAAAAQIAAAIBAAMBAgMEAQAAAgEBAQACAAABAQICAAIAAAMCAgEEAQAAAQEBAQAAAAABAQUAAAAAAAQBAAICAAAAAgACAQAAAAABAAQCAQEAAgEEAgEAAQAAAAABAwEAAQAAAgABAgACAQIAAgAEAQEEAgABAAAAAAAAAAADAAAEAAAAAQACAQECAQECAQAAAQABAgIEAQECAAEBAQADAAAAAQEAAQEBAAAAAQQAAAAEAgABAAAAAAEAAQACAAAAAAEBAQMCAgAAAQEBAQEAAAAAAAADAAAAAAABAAEAAQABAgADAQQBAQABAAABBAIAAAEAAwMDAQIDAgECAAACAAMAAAAAAAEAAQAAAAECAQIBAAACAQAAAQAAAgAEAQAAAAgCAQAEAQEAAQIAAQAAAAACAAEBAQAAAAAAAgIAAQAAAQMBAwQAAQIEAQACAQIAAQAAAgEAAQEAAQABBAEDAQAAAQEAAwEAAAAAAAYAAgAAAQAAAgICAQAAAAEA",
          "dtype": "i1"
         },
         "yaxis": "y"
        }
       ],
       "layout": {
        "legend": {
         "tracegroupgap": 0
        },
        "template": {
         "data": {
          "bar": [
           {
            "error_x": {
             "color": "#2a3f5f"
            },
            "error_y": {
             "color": "#2a3f5f"
            },
            "marker": {
             "line": {
              "color": "#E5ECF6",
              "width": 0.5
             },
             "pattern": {
              "fillmode": "overlay",
              "size": 10,
              "solidity": 0.2
             }
            },
            "type": "bar"
           }
          ],
          "barpolar": [
           {
            "marker": {
             "line": {
              "color": "#E5ECF6",
              "width": 0.5
             },
             "pattern": {
              "fillmode": "overlay",
              "size": 10,
              "solidity": 0.2
             }
            },
            "type": "barpolar"
           }
          ],
          "carpet": [
           {
            "aaxis": {
             "endlinecolor": "#2a3f5f",
             "gridcolor": "white",
             "linecolor": "white",
             "minorgridcolor": "white",
             "startlinecolor": "#2a3f5f"
            },
            "baxis": {
             "endlinecolor": "#2a3f5f",
             "gridcolor": "white",
             "linecolor": "white",
             "minorgridcolor": "white",
             "startlinecolor": "#2a3f5f"
            },
            "type": "carpet"
           }
          ],
          "choropleth": [
           {
            "colorbar": {
             "outlinewidth": 0,
             "ticks": ""
            },
            "type": "choropleth"
           }
          ],
          "contour": [
           {
            "colorbar": {
             "outlinewidth": 0,
             "ticks": ""
            },
            "colorscale": [
             [
              0,
              "#0d0887"
             ],
             [
              0.1111111111111111,
              "#46039f"
             ],
             [
              0.2222222222222222,
              "#7201a8"
             ],
             [
              0.3333333333333333,
              "#9c179e"
             ],
             [
              0.4444444444444444,
              "#bd3786"
             ],
             [
              0.5555555555555556,
              "#d8576b"
             ],
             [
              0.6666666666666666,
              "#ed7953"
             ],
             [
              0.7777777777777778,
              "#fb9f3a"
             ],
             [
              0.8888888888888888,
              "#fdca26"
             ],
             [
              1,
              "#f0f921"
             ]
            ],
            "type": "contour"
           }
          ],
          "contourcarpet": [
           {
            "colorbar": {
             "outlinewidth": 0,
             "ticks": ""
            },
            "type": "contourcarpet"
           }
          ],
          "heatmap": [
           {
            "colorbar": {
             "outlinewidth": 0,
             "ticks": ""
            },
            "colorscale": [
             [
              0,
              "#0d0887"
             ],
             [
              0.1111111111111111,
              "#46039f"
             ],
             [
              0.2222222222222222,
              "#7201a8"
             ],
             [
              0.3333333333333333,
              "#9c179e"
             ],
             [
              0.4444444444444444,
              "#bd3786"
             ],
             [
              0.5555555555555556,
              "#d8576b"
             ],
             [
              0.6666666666666666,
              "#ed7953"
             ],
             [
              0.7777777777777778,
              "#fb9f3a"
             ],
             [
              0.8888888888888888,
              "#fdca26"
             ],
             [
              1,
              "#f0f921"
             ]
            ],
            "type": "heatmap"
           }
          ],
          "histogram": [
           {
            "marker": {
             "pattern": {
              "fillmode": "overlay",
              "size": 10,
              "solidity": 0.2
             }
            },
            "type": "histogram"
           }
          ],
          "histogram2d": [
           {
            "colorbar": {
             "outlinewidth": 0,
             "ticks": ""
            },
            "colorscale": [
             [
              0,
              "#0d0887"
             ],
             [
              0.1111111111111111,
              "#46039f"
             ],
             [
              0.2222222222222222,
              "#7201a8"
             ],
             [
              0.3333333333333333,
              "#9c179e"
             ],
             [
              0.4444444444444444,
              "#bd3786"
             ],
             [
              0.5555555555555556,
              "#d8576b"
             ],
             [
              0.6666666666666666,
              "#ed7953"
             ],
             [
              0.7777777777777778,
              "#fb9f3a"
             ],
             [
              0.8888888888888888,
              "#fdca26"
             ],
             [
              1,
              "#f0f921"
             ]
            ],
            "type": "histogram2d"
           }
          ],
          "histogram2dcontour": [
           {
            "colorbar": {
             "outlinewidth": 0,
             "ticks": ""
            },
            "colorscale": [
             [
              0,
              "#0d0887"
             ],
             [
              0.1111111111111111,
              "#46039f"
             ],
             [
              0.2222222222222222,
              "#7201a8"
             ],
             [
              0.3333333333333333,
              "#9c179e"
             ],
             [
              0.4444444444444444,
              "#bd3786"
             ],
             [
              0.5555555555555556,
              "#d8576b"
             ],
             [
              0.6666666666666666,
              "#ed7953"
             ],
             [
              0.7777777777777778,
              "#fb9f3a"
             ],
             [
              0.8888888888888888,
              "#fdca26"
             ],
             [
              1,
              "#f0f921"
             ]
            ],
            "type": "histogram2dcontour"
           }
          ],
          "mesh3d": [
           {
            "colorbar": {
             "outlinewidth": 0,
             "ticks": ""
            },
            "type": "mesh3d"
           }
          ],
          "parcoords": [
           {
            "line": {
             "colorbar": {
              "outlinewidth": 0,
              "ticks": ""
             }
            },
            "type": "parcoords"
           }
          ],
          "pie": [
           {
            "automargin": true,
            "type": "pie"
           }
          ],
          "scatter": [
           {
            "fillpattern": {
             "fillmode": "overlay",
             "size": 10,
             "solidity": 0.2
            },
            "type": "scatter"
           }
          ],
          "scatter3d": [
           {
            "line": {
             "colorbar": {
              "outlinewidth": 0,
              "ticks": ""
             }
            },
            "marker": {
             "colorbar": {
              "outlinewidth": 0,
              "ticks": ""
             }
            },
            "type": "scatter3d"
           }
          ],
          "scattercarpet": [
           {
            "marker": {
             "colorbar": {
              "outlinewidth": 0,
              "ticks": ""
             }
            },
            "type": "scattercarpet"
           }
          ],
          "scattergeo": [
           {
            "marker": {
             "colorbar": {
              "outlinewidth": 0,
              "ticks": ""
             }
            },
            "type": "scattergeo"
           }
          ],
          "scattergl": [
           {
            "marker": {
             "colorbar": {
              "outlinewidth": 0,
              "ticks": ""
             }
            },
            "type": "scattergl"
           }
          ],
          "scattermap": [
           {
            "marker": {
             "colorbar": {
              "outlinewidth": 0,
              "ticks": ""
             }
            },
            "type": "scattermap"
           }
          ],
          "scattermapbox": [
           {
            "marker": {
             "colorbar": {
              "outlinewidth": 0,
              "ticks": ""
             }
            },
            "type": "scattermapbox"
           }
          ],
          "scatterpolar": [
           {
            "marker": {
             "colorbar": {
              "outlinewidth": 0,
              "ticks": ""
             }
            },
            "type": "scatterpolar"
           }
          ],
          "scatterpolargl": [
           {
            "marker": {
             "colorbar": {
              "outlinewidth": 0,
              "ticks": ""
             }
            },
            "type": "scatterpolargl"
           }
          ],
          "scatterternary": [
           {
            "marker": {
             "colorbar": {
              "outlinewidth": 0,
              "ticks": ""
             }
            },
            "type": "scatterternary"
           }
          ],
          "surface": [
           {
            "colorbar": {
             "outlinewidth": 0,
             "ticks": ""
            },
            "colorscale": [
             [
              0,
              "#0d0887"
             ],
             [
              0.1111111111111111,
              "#46039f"
             ],
             [
              0.2222222222222222,
              "#7201a8"
             ],
             [
              0.3333333333333333,
              "#9c179e"
             ],
             [
              0.4444444444444444,
              "#bd3786"
             ],
             [
              0.5555555555555556,
              "#d8576b"
             ],
             [
              0.6666666666666666,
              "#ed7953"
             ],
             [
              0.7777777777777778,
              "#fb9f3a"
             ],
             [
              0.8888888888888888,
              "#fdca26"
             ],
             [
              1,
              "#f0f921"
             ]
            ],
            "type": "surface"
           }
          ],
          "table": [
           {
            "cells": {
             "fill": {
              "color": "#EBF0F8"
             },
             "line": {
              "color": "white"
             }
            },
            "header": {
             "fill": {
              "color": "#C8D4E3"
             },
             "line": {
              "color": "white"
             }
            },
            "type": "table"
           }
          ]
         },
         "layout": {
          "annotationdefaults": {
           "arrowcolor": "#2a3f5f",
           "arrowhead": 0,
           "arrowwidth": 1
          },
          "autotypenumbers": "strict",
          "coloraxis": {
           "colorbar": {
            "outlinewidth": 0,
            "ticks": ""
           }
          },
          "colorscale": {
           "diverging": [
            [
             0,
             "#8e0152"
            ],
            [
             0.1,
             "#c51b7d"
            ],
            [
             0.2,
             "#de77ae"
            ],
            [
             0.3,
             "#f1b6da"
            ],
            [
             0.4,
             "#fde0ef"
            ],
            [
             0.5,
             "#f7f7f7"
            ],
            [
             0.6,
             "#e6f5d0"
            ],
            [
             0.7,
             "#b8e186"
            ],
            [
             0.8,
             "#7fbc41"
            ],
            [
             0.9,
             "#4d9221"
            ],
            [
             1,
             "#276419"
            ]
           ],
           "sequential": [
            [
             0,
             "#0d0887"
            ],
            [
             0.1111111111111111,
             "#46039f"
            ],
            [
             0.2222222222222222,
             "#7201a8"
            ],
            [
             0.3333333333333333,
             "#9c179e"
            ],
            [
             0.4444444444444444,
             "#bd3786"
            ],
            [
             0.5555555555555556,
             "#d8576b"
            ],
            [
             0.6666666666666666,
             "#ed7953"
            ],
            [
             0.7777777777777778,
             "#fb9f3a"
            ],
            [
             0.8888888888888888,
             "#fdca26"
            ],
            [
             1,
             "#f0f921"
            ]
           ],
           "sequentialminus": [
            [
             0,
             "#0d0887"
            ],
            [
             0.1111111111111111,
             "#46039f"
            ],
            [
             0.2222222222222222,
             "#7201a8"
            ],
            [
             0.3333333333333333,
             "#9c179e"
            ],
            [
             0.4444444444444444,
             "#bd3786"
            ],
            [
             0.5555555555555556,
             "#d8576b"
            ],
            [
             0.6666666666666666,
             "#ed7953"
            ],
            [
             0.7777777777777778,
             "#fb9f3a"
            ],
            [
             0.8888888888888888,
             "#fdca26"
            ],
            [
             1,
             "#f0f921"
            ]
           ]
          },
          "colorway": [
           "#636efa",
           "#EF553B",
           "#00cc96",
           "#ab63fa",
           "#FFA15A",
           "#19d3f3",
           "#FF6692",
           "#B6E880",
           "#FF97FF",
           "#FECB52"
          ],
          "font": {
           "color": "#2a3f5f"
          },
          "geo": {
           "bgcolor": "white",
           "lakecolor": "white",
           "landcolor": "#E5ECF6",
           "showlakes": true,
           "showland": true,
           "subunitcolor": "white"
          },
          "hoverlabel": {
           "align": "left"
          },
          "hovermode": "closest",
          "mapbox": {
           "style": "light"
          },
          "paper_bgcolor": "white",
          "plot_bgcolor": "#E5ECF6",
          "polar": {
           "angularaxis": {
            "gridcolor": "white",
            "linecolor": "white",
            "ticks": ""
           },
           "bgcolor": "#E5ECF6",
           "radialaxis": {
            "gridcolor": "white",
            "linecolor": "white",
            "ticks": ""
           }
          },
          "scene": {
           "xaxis": {
            "backgroundcolor": "#E5ECF6",
            "gridcolor": "white",
            "gridwidth": 2,
            "linecolor": "white",
            "showbackground": true,
            "ticks": "",
            "zerolinecolor": "white"
           },
           "yaxis": {
            "backgroundcolor": "#E5ECF6",
            "gridcolor": "white",
            "gridwidth": 2,
            "linecolor": "white",
            "showbackground": true,
            "ticks": "",
            "zerolinecolor": "white"
           },
           "zaxis": {
            "backgroundcolor": "#E5ECF6",
            "gridcolor": "white",
            "gridwidth": 2,
            "linecolor": "white",
            "showbackground": true,
            "ticks": "",
            "zerolinecolor": "white"
           }
          },
          "shapedefaults": {
           "line": {
            "color": "#2a3f5f"
           }
          },
          "ternary": {
           "aaxis": {
            "gridcolor": "white",
            "linecolor": "white",
            "ticks": ""
           },
           "baxis": {
            "gridcolor": "white",
            "linecolor": "white",
            "ticks": ""
           },
           "bgcolor": "#E5ECF6",
           "caxis": {
            "gridcolor": "white",
            "linecolor": "white",
            "ticks": ""
           }
          },
          "title": {
           "x": 0.05
          },
          "xaxis": {
           "automargin": true,
           "gridcolor": "white",
           "linecolor": "white",
           "ticks": "",
           "title": {
            "standoff": 15
           },
           "zerolinecolor": "white",
           "zerolinewidth": 2
          },
          "yaxis": {
           "automargin": true,
           "gridcolor": "white",
           "linecolor": "white",
           "ticks": "",
           "title": {
            "standoff": 15
           },
           "zerolinecolor": "white",
           "zerolinewidth": 2
          }
         }
        },
        "title": {
         "text": "Location 130"
        },
        "xaxis": {
         "anchor": "y",
         "domain": [
          0,
          1
         ],
         "title": {
          "text": "pickup_hour"
         }
        },
        "yaxis": {
         "anchor": "x",
         "domain": [
          0,
          1
         ],
         "title": {
          "text": "rides_count"
         }
        }
       }
      }
     },
     "metadata": {},
     "output_type": "display_data"
    },
    {
     "data": {
      "application/vnd.plotly.v1+json": {
       "config": {
        "plotlyServerURL": "https://plot.ly"
       },
       "data": [
        {
         "hovertemplate": "pickup_hour=%{x}<br>rides_count=%{y}<extra></extra>",
         "legendgroup": "",
         "line": {
          "color": "#636efa",
          "dash": "solid"
         },
         "marker": {
          "symbol": "circle"
         },
         "mode": "lines",
         "name": "",
         "orientation": "v",
         "showlegend": false,
         "type": "scatter",
         "x": [
          "2024-01-01T00:00:00.000000000",
          "2024-01-01T01:00:00.000000000",
          "2024-01-01T02:00:00.000000000",
          "2024-01-01T03:00:00.000000000",
          "2024-01-01T04:00:00.000000000",
          "2024-01-01T05:00:00.000000000",
          "2024-01-01T06:00:00.000000000",
          "2024-01-01T07:00:00.000000000",
          "2024-01-01T08:00:00.000000000",
          "2024-01-01T09:00:00.000000000",
          "2024-01-01T10:00:00.000000000",
          "2024-01-01T11:00:00.000000000",
          "2024-01-01T12:00:00.000000000",
          "2024-01-01T13:00:00.000000000",
          "2024-01-01T14:00:00.000000000",
          "2024-01-01T15:00:00.000000000",
          "2024-01-01T16:00:00.000000000",
          "2024-01-01T17:00:00.000000000",
          "2024-01-01T18:00:00.000000000",
          "2024-01-01T19:00:00.000000000",
          "2024-01-01T20:00:00.000000000",
          "2024-01-01T21:00:00.000000000",
          "2024-01-01T22:00:00.000000000",
          "2024-01-01T23:00:00.000000000",
          "2024-01-02T00:00:00.000000000",
          "2024-01-02T01:00:00.000000000",
          "2024-01-02T02:00:00.000000000",
          "2024-01-02T03:00:00.000000000",
          "2024-01-02T04:00:00.000000000",
          "2024-01-02T05:00:00.000000000",
          "2024-01-02T06:00:00.000000000",
          "2024-01-02T07:00:00.000000000",
          "2024-01-02T08:00:00.000000000",
          "2024-01-02T09:00:00.000000000",
          "2024-01-02T10:00:00.000000000",
          "2024-01-02T11:00:00.000000000",
          "2024-01-02T12:00:00.000000000",
          "2024-01-02T13:00:00.000000000",
          "2024-01-02T14:00:00.000000000",
          "2024-01-02T15:00:00.000000000",
          "2024-01-02T16:00:00.000000000",
          "2024-01-02T17:00:00.000000000",
          "2024-01-02T18:00:00.000000000",
          "2024-01-02T19:00:00.000000000",
          "2024-01-02T20:00:00.000000000",
          "2024-01-02T21:00:00.000000000",
          "2024-01-02T22:00:00.000000000",
          "2024-01-02T23:00:00.000000000",
          "2024-01-03T00:00:00.000000000",
          "2024-01-03T01:00:00.000000000",
          "2024-01-03T02:00:00.000000000",
          "2024-01-03T03:00:00.000000000",
          "2024-01-03T04:00:00.000000000",
          "2024-01-03T05:00:00.000000000",
          "2024-01-03T06:00:00.000000000",
          "2024-01-03T07:00:00.000000000",
          "2024-01-03T08:00:00.000000000",
          "2024-01-03T09:00:00.000000000",
          "2024-01-03T10:00:00.000000000",
          "2024-01-03T11:00:00.000000000",
          "2024-01-03T12:00:00.000000000",
          "2024-01-03T13:00:00.000000000",
          "2024-01-03T14:00:00.000000000",
          "2024-01-03T15:00:00.000000000",
          "2024-01-03T16:00:00.000000000",
          "2024-01-03T17:00:00.000000000",
          "2024-01-03T18:00:00.000000000",
          "2024-01-03T19:00:00.000000000",
          "2024-01-03T20:00:00.000000000",
          "2024-01-03T21:00:00.000000000",
          "2024-01-03T22:00:00.000000000",
          "2024-01-03T23:00:00.000000000",
          "2024-01-04T00:00:00.000000000",
          "2024-01-04T01:00:00.000000000",
          "2024-01-04T02:00:00.000000000",
          "2024-01-04T03:00:00.000000000",
          "2024-01-04T04:00:00.000000000",
          "2024-01-04T05:00:00.000000000",
          "2024-01-04T06:00:00.000000000",
          "2024-01-04T07:00:00.000000000",
          "2024-01-04T08:00:00.000000000",
          "2024-01-04T09:00:00.000000000",
          "2024-01-04T10:00:00.000000000",
          "2024-01-04T11:00:00.000000000",
          "2024-01-04T12:00:00.000000000",
          "2024-01-04T13:00:00.000000000",
          "2024-01-04T14:00:00.000000000",
          "2024-01-04T15:00:00.000000000",
          "2024-01-04T16:00:00.000000000",
          "2024-01-04T17:00:00.000000000",
          "2024-01-04T18:00:00.000000000",
          "2024-01-04T19:00:00.000000000",
          "2024-01-04T20:00:00.000000000",
          "2024-01-04T21:00:00.000000000",
          "2024-01-04T22:00:00.000000000",
          "2024-01-04T23:00:00.000000000",
          "2024-01-05T00:00:00.000000000",
          "2024-01-05T01:00:00.000000000",
          "2024-01-05T02:00:00.000000000",
          "2024-01-05T03:00:00.000000000",
          "2024-01-05T04:00:00.000000000",
          "2024-01-05T05:00:00.000000000",
          "2024-01-05T06:00:00.000000000",
          "2024-01-05T07:00:00.000000000",
          "2024-01-05T08:00:00.000000000",
          "2024-01-05T09:00:00.000000000",
          "2024-01-05T10:00:00.000000000",
          "2024-01-05T11:00:00.000000000",
          "2024-01-05T12:00:00.000000000",
          "2024-01-05T13:00:00.000000000",
          "2024-01-05T14:00:00.000000000",
          "2024-01-05T15:00:00.000000000",
          "2024-01-05T16:00:00.000000000",
          "2024-01-05T17:00:00.000000000",
          "2024-01-05T18:00:00.000000000",
          "2024-01-05T19:00:00.000000000",
          "2024-01-05T20:00:00.000000000",
          "2024-01-05T21:00:00.000000000",
          "2024-01-05T22:00:00.000000000",
          "2024-01-05T23:00:00.000000000",
          "2024-01-06T00:00:00.000000000",
          "2024-01-06T01:00:00.000000000",
          "2024-01-06T02:00:00.000000000",
          "2024-01-06T03:00:00.000000000",
          "2024-01-06T04:00:00.000000000",
          "2024-01-06T05:00:00.000000000",
          "2024-01-06T06:00:00.000000000",
          "2024-01-06T07:00:00.000000000",
          "2024-01-06T08:00:00.000000000",
          "2024-01-06T09:00:00.000000000",
          "2024-01-06T10:00:00.000000000",
          "2024-01-06T11:00:00.000000000",
          "2024-01-06T12:00:00.000000000",
          "2024-01-06T13:00:00.000000000",
          "2024-01-06T14:00:00.000000000",
          "2024-01-06T15:00:00.000000000",
          "2024-01-06T16:00:00.000000000",
          "2024-01-06T17:00:00.000000000",
          "2024-01-06T18:00:00.000000000",
          "2024-01-06T19:00:00.000000000",
          "2024-01-06T20:00:00.000000000",
          "2024-01-06T21:00:00.000000000",
          "2024-01-06T22:00:00.000000000",
          "2024-01-06T23:00:00.000000000",
          "2024-01-07T00:00:00.000000000",
          "2024-01-07T01:00:00.000000000",
          "2024-01-07T02:00:00.000000000",
          "2024-01-07T03:00:00.000000000",
          "2024-01-07T04:00:00.000000000",
          "2024-01-07T05:00:00.000000000",
          "2024-01-07T06:00:00.000000000",
          "2024-01-07T07:00:00.000000000",
          "2024-01-07T08:00:00.000000000",
          "2024-01-07T09:00:00.000000000",
          "2024-01-07T10:00:00.000000000",
          "2024-01-07T11:00:00.000000000",
          "2024-01-07T12:00:00.000000000",
          "2024-01-07T13:00:00.000000000",
          "2024-01-07T14:00:00.000000000",
          "2024-01-07T15:00:00.000000000",
          "2024-01-07T16:00:00.000000000",
          "2024-01-07T17:00:00.000000000",
          "2024-01-07T18:00:00.000000000",
          "2024-01-07T19:00:00.000000000",
          "2024-01-07T20:00:00.000000000",
          "2024-01-07T21:00:00.000000000",
          "2024-01-07T22:00:00.000000000",
          "2024-01-07T23:00:00.000000000",
          "2024-01-08T00:00:00.000000000",
          "2024-01-08T01:00:00.000000000",
          "2024-01-08T02:00:00.000000000",
          "2024-01-08T03:00:00.000000000",
          "2024-01-08T04:00:00.000000000",
          "2024-01-08T05:00:00.000000000",
          "2024-01-08T06:00:00.000000000",
          "2024-01-08T07:00:00.000000000",
          "2024-01-08T08:00:00.000000000",
          "2024-01-08T09:00:00.000000000",
          "2024-01-08T10:00:00.000000000",
          "2024-01-08T11:00:00.000000000",
          "2024-01-08T12:00:00.000000000",
          "2024-01-08T13:00:00.000000000",
          "2024-01-08T14:00:00.000000000",
          "2024-01-08T15:00:00.000000000",
          "2024-01-08T16:00:00.000000000",
          "2024-01-08T17:00:00.000000000",
          "2024-01-08T18:00:00.000000000",
          "2024-01-08T19:00:00.000000000",
          "2024-01-08T20:00:00.000000000",
          "2024-01-08T21:00:00.000000000",
          "2024-01-08T22:00:00.000000000",
          "2024-01-08T23:00:00.000000000",
          "2024-01-09T00:00:00.000000000",
          "2024-01-09T01:00:00.000000000",
          "2024-01-09T02:00:00.000000000",
          "2024-01-09T03:00:00.000000000",
          "2024-01-09T04:00:00.000000000",
          "2024-01-09T05:00:00.000000000",
          "2024-01-09T06:00:00.000000000",
          "2024-01-09T07:00:00.000000000",
          "2024-01-09T08:00:00.000000000",
          "2024-01-09T09:00:00.000000000",
          "2024-01-09T10:00:00.000000000",
          "2024-01-09T11:00:00.000000000",
          "2024-01-09T12:00:00.000000000",
          "2024-01-09T13:00:00.000000000",
          "2024-01-09T14:00:00.000000000",
          "2024-01-09T15:00:00.000000000",
          "2024-01-09T16:00:00.000000000",
          "2024-01-09T17:00:00.000000000",
          "2024-01-09T18:00:00.000000000",
          "2024-01-09T19:00:00.000000000",
          "2024-01-09T20:00:00.000000000",
          "2024-01-09T21:00:00.000000000",
          "2024-01-09T22:00:00.000000000",
          "2024-01-09T23:00:00.000000000",
          "2024-01-10T00:00:00.000000000",
          "2024-01-10T01:00:00.000000000",
          "2024-01-10T02:00:00.000000000",
          "2024-01-10T03:00:00.000000000",
          "2024-01-10T04:00:00.000000000",
          "2024-01-10T05:00:00.000000000",
          "2024-01-10T06:00:00.000000000",
          "2024-01-10T07:00:00.000000000",
          "2024-01-10T08:00:00.000000000",
          "2024-01-10T09:00:00.000000000",
          "2024-01-10T10:00:00.000000000",
          "2024-01-10T11:00:00.000000000",
          "2024-01-10T12:00:00.000000000",
          "2024-01-10T13:00:00.000000000",
          "2024-01-10T14:00:00.000000000",
          "2024-01-10T15:00:00.000000000",
          "2024-01-10T16:00:00.000000000",
          "2024-01-10T17:00:00.000000000",
          "2024-01-10T18:00:00.000000000",
          "2024-01-10T19:00:00.000000000",
          "2024-01-10T20:00:00.000000000",
          "2024-01-10T21:00:00.000000000",
          "2024-01-10T22:00:00.000000000",
          "2024-01-10T23:00:00.000000000",
          "2024-01-11T00:00:00.000000000",
          "2024-01-11T01:00:00.000000000",
          "2024-01-11T02:00:00.000000000",
          "2024-01-11T03:00:00.000000000",
          "2024-01-11T04:00:00.000000000",
          "2024-01-11T05:00:00.000000000",
          "2024-01-11T06:00:00.000000000",
          "2024-01-11T07:00:00.000000000",
          "2024-01-11T08:00:00.000000000",
          "2024-01-11T09:00:00.000000000",
          "2024-01-11T10:00:00.000000000",
          "2024-01-11T11:00:00.000000000",
          "2024-01-11T12:00:00.000000000",
          "2024-01-11T13:00:00.000000000",
          "2024-01-11T14:00:00.000000000",
          "2024-01-11T15:00:00.000000000",
          "2024-01-11T16:00:00.000000000",
          "2024-01-11T17:00:00.000000000",
          "2024-01-11T18:00:00.000000000",
          "2024-01-11T19:00:00.000000000",
          "2024-01-11T20:00:00.000000000",
          "2024-01-11T21:00:00.000000000",
          "2024-01-11T22:00:00.000000000",
          "2024-01-11T23:00:00.000000000",
          "2024-01-12T00:00:00.000000000",
          "2024-01-12T01:00:00.000000000",
          "2024-01-12T02:00:00.000000000",
          "2024-01-12T03:00:00.000000000",
          "2024-01-12T04:00:00.000000000",
          "2024-01-12T05:00:00.000000000",
          "2024-01-12T06:00:00.000000000",
          "2024-01-12T07:00:00.000000000",
          "2024-01-12T08:00:00.000000000",
          "2024-01-12T09:00:00.000000000",
          "2024-01-12T10:00:00.000000000",
          "2024-01-12T11:00:00.000000000",
          "2024-01-12T12:00:00.000000000",
          "2024-01-12T13:00:00.000000000",
          "2024-01-12T14:00:00.000000000",
          "2024-01-12T15:00:00.000000000",
          "2024-01-12T16:00:00.000000000",
          "2024-01-12T17:00:00.000000000",
          "2024-01-12T18:00:00.000000000",
          "2024-01-12T19:00:00.000000000",
          "2024-01-12T20:00:00.000000000",
          "2024-01-12T21:00:00.000000000",
          "2024-01-12T22:00:00.000000000",
          "2024-01-12T23:00:00.000000000",
          "2024-01-13T00:00:00.000000000",
          "2024-01-13T01:00:00.000000000",
          "2024-01-13T02:00:00.000000000",
          "2024-01-13T03:00:00.000000000",
          "2024-01-13T04:00:00.000000000",
          "2024-01-13T05:00:00.000000000",
          "2024-01-13T06:00:00.000000000",
          "2024-01-13T07:00:00.000000000",
          "2024-01-13T08:00:00.000000000",
          "2024-01-13T09:00:00.000000000",
          "2024-01-13T10:00:00.000000000",
          "2024-01-13T11:00:00.000000000",
          "2024-01-13T12:00:00.000000000",
          "2024-01-13T13:00:00.000000000",
          "2024-01-13T14:00:00.000000000",
          "2024-01-13T15:00:00.000000000",
          "2024-01-13T16:00:00.000000000",
          "2024-01-13T17:00:00.000000000",
          "2024-01-13T18:00:00.000000000",
          "2024-01-13T19:00:00.000000000",
          "2024-01-13T20:00:00.000000000",
          "2024-01-13T21:00:00.000000000",
          "2024-01-13T22:00:00.000000000",
          "2024-01-13T23:00:00.000000000",
          "2024-01-14T00:00:00.000000000",
          "2024-01-14T01:00:00.000000000",
          "2024-01-14T02:00:00.000000000",
          "2024-01-14T03:00:00.000000000",
          "2024-01-14T04:00:00.000000000",
          "2024-01-14T05:00:00.000000000",
          "2024-01-14T06:00:00.000000000",
          "2024-01-14T07:00:00.000000000",
          "2024-01-14T08:00:00.000000000",
          "2024-01-14T09:00:00.000000000",
          "2024-01-14T10:00:00.000000000",
          "2024-01-14T11:00:00.000000000",
          "2024-01-14T12:00:00.000000000",
          "2024-01-14T13:00:00.000000000",
          "2024-01-14T14:00:00.000000000",
          "2024-01-14T15:00:00.000000000",
          "2024-01-14T16:00:00.000000000",
          "2024-01-14T17:00:00.000000000",
          "2024-01-14T18:00:00.000000000",
          "2024-01-14T19:00:00.000000000",
          "2024-01-14T20:00:00.000000000",
          "2024-01-14T21:00:00.000000000",
          "2024-01-14T22:00:00.000000000",
          "2024-01-14T23:00:00.000000000",
          "2024-01-15T00:00:00.000000000",
          "2024-01-15T01:00:00.000000000",
          "2024-01-15T02:00:00.000000000",
          "2024-01-15T03:00:00.000000000",
          "2024-01-15T04:00:00.000000000",
          "2024-01-15T05:00:00.000000000",
          "2024-01-15T06:00:00.000000000",
          "2024-01-15T07:00:00.000000000",
          "2024-01-15T08:00:00.000000000",
          "2024-01-15T09:00:00.000000000",
          "2024-01-15T10:00:00.000000000",
          "2024-01-15T11:00:00.000000000",
          "2024-01-15T12:00:00.000000000",
          "2024-01-15T13:00:00.000000000",
          "2024-01-15T14:00:00.000000000",
          "2024-01-15T15:00:00.000000000",
          "2024-01-15T16:00:00.000000000",
          "2024-01-15T17:00:00.000000000",
          "2024-01-15T18:00:00.000000000",
          "2024-01-15T19:00:00.000000000",
          "2024-01-15T20:00:00.000000000",
          "2024-01-15T21:00:00.000000000",
          "2024-01-15T22:00:00.000000000",
          "2024-01-15T23:00:00.000000000",
          "2024-01-16T00:00:00.000000000",
          "2024-01-16T01:00:00.000000000",
          "2024-01-16T02:00:00.000000000",
          "2024-01-16T03:00:00.000000000",
          "2024-01-16T04:00:00.000000000",
          "2024-01-16T05:00:00.000000000",
          "2024-01-16T06:00:00.000000000",
          "2024-01-16T07:00:00.000000000",
          "2024-01-16T08:00:00.000000000",
          "2024-01-16T09:00:00.000000000",
          "2024-01-16T10:00:00.000000000",
          "2024-01-16T11:00:00.000000000",
          "2024-01-16T12:00:00.000000000",
          "2024-01-16T13:00:00.000000000",
          "2024-01-16T14:00:00.000000000",
          "2024-01-16T15:00:00.000000000",
          "2024-01-16T16:00:00.000000000",
          "2024-01-16T17:00:00.000000000",
          "2024-01-16T18:00:00.000000000",
          "2024-01-16T19:00:00.000000000",
          "2024-01-16T20:00:00.000000000",
          "2024-01-16T21:00:00.000000000",
          "2024-01-16T22:00:00.000000000",
          "2024-01-16T23:00:00.000000000",
          "2024-01-17T00:00:00.000000000",
          "2024-01-17T01:00:00.000000000",
          "2024-01-17T02:00:00.000000000",
          "2024-01-17T03:00:00.000000000",
          "2024-01-17T04:00:00.000000000",
          "2024-01-17T05:00:00.000000000",
          "2024-01-17T06:00:00.000000000",
          "2024-01-17T07:00:00.000000000",
          "2024-01-17T08:00:00.000000000",
          "2024-01-17T09:00:00.000000000",
          "2024-01-17T10:00:00.000000000",
          "2024-01-17T11:00:00.000000000",
          "2024-01-17T12:00:00.000000000",
          "2024-01-17T13:00:00.000000000",
          "2024-01-17T14:00:00.000000000",
          "2024-01-17T15:00:00.000000000",
          "2024-01-17T16:00:00.000000000",
          "2024-01-17T17:00:00.000000000",
          "2024-01-17T18:00:00.000000000",
          "2024-01-17T19:00:00.000000000",
          "2024-01-17T20:00:00.000000000",
          "2024-01-17T21:00:00.000000000",
          "2024-01-17T22:00:00.000000000",
          "2024-01-17T23:00:00.000000000",
          "2024-01-18T00:00:00.000000000",
          "2024-01-18T01:00:00.000000000",
          "2024-01-18T02:00:00.000000000",
          "2024-01-18T03:00:00.000000000",
          "2024-01-18T04:00:00.000000000",
          "2024-01-18T05:00:00.000000000",
          "2024-01-18T06:00:00.000000000",
          "2024-01-18T07:00:00.000000000",
          "2024-01-18T08:00:00.000000000",
          "2024-01-18T09:00:00.000000000",
          "2024-01-18T10:00:00.000000000",
          "2024-01-18T11:00:00.000000000",
          "2024-01-18T12:00:00.000000000",
          "2024-01-18T13:00:00.000000000",
          "2024-01-18T14:00:00.000000000",
          "2024-01-18T15:00:00.000000000",
          "2024-01-18T16:00:00.000000000",
          "2024-01-18T17:00:00.000000000",
          "2024-01-18T18:00:00.000000000",
          "2024-01-18T19:00:00.000000000",
          "2024-01-18T20:00:00.000000000",
          "2024-01-18T21:00:00.000000000",
          "2024-01-18T22:00:00.000000000",
          "2024-01-18T23:00:00.000000000",
          "2024-01-19T00:00:00.000000000",
          "2024-01-19T01:00:00.000000000",
          "2024-01-19T02:00:00.000000000",
          "2024-01-19T03:00:00.000000000",
          "2024-01-19T04:00:00.000000000",
          "2024-01-19T05:00:00.000000000",
          "2024-01-19T06:00:00.000000000",
          "2024-01-19T07:00:00.000000000",
          "2024-01-19T08:00:00.000000000",
          "2024-01-19T09:00:00.000000000",
          "2024-01-19T10:00:00.000000000",
          "2024-01-19T11:00:00.000000000",
          "2024-01-19T12:00:00.000000000",
          "2024-01-19T13:00:00.000000000",
          "2024-01-19T14:00:00.000000000",
          "2024-01-19T15:00:00.000000000",
          "2024-01-19T16:00:00.000000000",
          "2024-01-19T17:00:00.000000000",
          "2024-01-19T18:00:00.000000000",
          "2024-01-19T19:00:00.000000000",
          "2024-01-19T20:00:00.000000000",
          "2024-01-19T21:00:00.000000000",
          "2024-01-19T22:00:00.000000000",
          "2024-01-19T23:00:00.000000000",
          "2024-01-20T00:00:00.000000000",
          "2024-01-20T01:00:00.000000000",
          "2024-01-20T02:00:00.000000000",
          "2024-01-20T03:00:00.000000000",
          "2024-01-20T04:00:00.000000000",
          "2024-01-20T05:00:00.000000000",
          "2024-01-20T06:00:00.000000000",
          "2024-01-20T07:00:00.000000000",
          "2024-01-20T08:00:00.000000000",
          "2024-01-20T09:00:00.000000000",
          "2024-01-20T10:00:00.000000000",
          "2024-01-20T11:00:00.000000000",
          "2024-01-20T12:00:00.000000000",
          "2024-01-20T13:00:00.000000000",
          "2024-01-20T14:00:00.000000000",
          "2024-01-20T15:00:00.000000000",
          "2024-01-20T16:00:00.000000000",
          "2024-01-20T17:00:00.000000000",
          "2024-01-20T18:00:00.000000000",
          "2024-01-20T19:00:00.000000000",
          "2024-01-20T20:00:00.000000000",
          "2024-01-20T21:00:00.000000000",
          "2024-01-20T22:00:00.000000000",
          "2024-01-20T23:00:00.000000000",
          "2024-01-21T00:00:00.000000000",
          "2024-01-21T01:00:00.000000000",
          "2024-01-21T02:00:00.000000000",
          "2024-01-21T03:00:00.000000000",
          "2024-01-21T04:00:00.000000000",
          "2024-01-21T05:00:00.000000000",
          "2024-01-21T06:00:00.000000000",
          "2024-01-21T07:00:00.000000000",
          "2024-01-21T08:00:00.000000000",
          "2024-01-21T09:00:00.000000000",
          "2024-01-21T10:00:00.000000000",
          "2024-01-21T11:00:00.000000000",
          "2024-01-21T12:00:00.000000000",
          "2024-01-21T13:00:00.000000000",
          "2024-01-21T14:00:00.000000000",
          "2024-01-21T15:00:00.000000000",
          "2024-01-21T16:00:00.000000000",
          "2024-01-21T17:00:00.000000000",
          "2024-01-21T18:00:00.000000000",
          "2024-01-21T19:00:00.000000000",
          "2024-01-21T20:00:00.000000000",
          "2024-01-21T21:00:00.000000000",
          "2024-01-21T22:00:00.000000000",
          "2024-01-21T23:00:00.000000000",
          "2024-01-22T00:00:00.000000000",
          "2024-01-22T01:00:00.000000000",
          "2024-01-22T02:00:00.000000000",
          "2024-01-22T03:00:00.000000000",
          "2024-01-22T04:00:00.000000000",
          "2024-01-22T05:00:00.000000000",
          "2024-01-22T06:00:00.000000000",
          "2024-01-22T07:00:00.000000000",
          "2024-01-22T08:00:00.000000000",
          "2024-01-22T09:00:00.000000000",
          "2024-01-22T10:00:00.000000000",
          "2024-01-22T11:00:00.000000000",
          "2024-01-22T12:00:00.000000000",
          "2024-01-22T13:00:00.000000000",
          "2024-01-22T14:00:00.000000000",
          "2024-01-22T15:00:00.000000000",
          "2024-01-22T16:00:00.000000000",
          "2024-01-22T17:00:00.000000000",
          "2024-01-22T18:00:00.000000000",
          "2024-01-22T19:00:00.000000000",
          "2024-01-22T20:00:00.000000000",
          "2024-01-22T21:00:00.000000000",
          "2024-01-22T22:00:00.000000000",
          "2024-01-22T23:00:00.000000000",
          "2024-01-23T00:00:00.000000000",
          "2024-01-23T01:00:00.000000000",
          "2024-01-23T02:00:00.000000000",
          "2024-01-23T03:00:00.000000000",
          "2024-01-23T04:00:00.000000000",
          "2024-01-23T05:00:00.000000000",
          "2024-01-23T06:00:00.000000000",
          "2024-01-23T07:00:00.000000000",
          "2024-01-23T08:00:00.000000000",
          "2024-01-23T09:00:00.000000000",
          "2024-01-23T10:00:00.000000000",
          "2024-01-23T11:00:00.000000000",
          "2024-01-23T12:00:00.000000000",
          "2024-01-23T13:00:00.000000000",
          "2024-01-23T14:00:00.000000000",
          "2024-01-23T15:00:00.000000000",
          "2024-01-23T16:00:00.000000000",
          "2024-01-23T17:00:00.000000000",
          "2024-01-23T18:00:00.000000000",
          "2024-01-23T19:00:00.000000000",
          "2024-01-23T20:00:00.000000000",
          "2024-01-23T21:00:00.000000000",
          "2024-01-23T22:00:00.000000000",
          "2024-01-23T23:00:00.000000000",
          "2024-01-24T00:00:00.000000000",
          "2024-01-24T01:00:00.000000000",
          "2024-01-24T02:00:00.000000000",
          "2024-01-24T03:00:00.000000000",
          "2024-01-24T04:00:00.000000000",
          "2024-01-24T05:00:00.000000000",
          "2024-01-24T06:00:00.000000000",
          "2024-01-24T07:00:00.000000000",
          "2024-01-24T08:00:00.000000000",
          "2024-01-24T09:00:00.000000000",
          "2024-01-24T10:00:00.000000000",
          "2024-01-24T11:00:00.000000000",
          "2024-01-24T12:00:00.000000000",
          "2024-01-24T13:00:00.000000000",
          "2024-01-24T14:00:00.000000000",
          "2024-01-24T15:00:00.000000000",
          "2024-01-24T16:00:00.000000000",
          "2024-01-24T17:00:00.000000000",
          "2024-01-24T18:00:00.000000000",
          "2024-01-24T19:00:00.000000000",
          "2024-01-24T20:00:00.000000000",
          "2024-01-24T21:00:00.000000000",
          "2024-01-24T22:00:00.000000000",
          "2024-01-24T23:00:00.000000000",
          "2024-01-25T00:00:00.000000000",
          "2024-01-25T01:00:00.000000000",
          "2024-01-25T02:00:00.000000000",
          "2024-01-25T03:00:00.000000000",
          "2024-01-25T04:00:00.000000000",
          "2024-01-25T05:00:00.000000000",
          "2024-01-25T06:00:00.000000000",
          "2024-01-25T07:00:00.000000000",
          "2024-01-25T08:00:00.000000000",
          "2024-01-25T09:00:00.000000000",
          "2024-01-25T10:00:00.000000000",
          "2024-01-25T11:00:00.000000000",
          "2024-01-25T12:00:00.000000000",
          "2024-01-25T13:00:00.000000000",
          "2024-01-25T14:00:00.000000000",
          "2024-01-25T15:00:00.000000000",
          "2024-01-25T16:00:00.000000000",
          "2024-01-25T17:00:00.000000000",
          "2024-01-25T18:00:00.000000000",
          "2024-01-25T19:00:00.000000000",
          "2024-01-25T20:00:00.000000000",
          "2024-01-25T21:00:00.000000000",
          "2024-01-25T22:00:00.000000000",
          "2024-01-25T23:00:00.000000000",
          "2024-01-26T00:00:00.000000000",
          "2024-01-26T01:00:00.000000000",
          "2024-01-26T02:00:00.000000000",
          "2024-01-26T03:00:00.000000000",
          "2024-01-26T04:00:00.000000000",
          "2024-01-26T05:00:00.000000000",
          "2024-01-26T06:00:00.000000000",
          "2024-01-26T07:00:00.000000000",
          "2024-01-26T08:00:00.000000000",
          "2024-01-26T09:00:00.000000000",
          "2024-01-26T10:00:00.000000000",
          "2024-01-26T11:00:00.000000000",
          "2024-01-26T12:00:00.000000000",
          "2024-01-26T13:00:00.000000000",
          "2024-01-26T14:00:00.000000000",
          "2024-01-26T15:00:00.000000000",
          "2024-01-26T16:00:00.000000000",
          "2024-01-26T17:00:00.000000000",
          "2024-01-26T18:00:00.000000000",
          "2024-01-26T19:00:00.000000000",
          "2024-01-26T20:00:00.000000000",
          "2024-01-26T21:00:00.000000000",
          "2024-01-26T22:00:00.000000000",
          "2024-01-26T23:00:00.000000000",
          "2024-01-27T00:00:00.000000000",
          "2024-01-27T01:00:00.000000000",
          "2024-01-27T02:00:00.000000000",
          "2024-01-27T03:00:00.000000000",
          "2024-01-27T04:00:00.000000000",
          "2024-01-27T05:00:00.000000000",
          "2024-01-27T06:00:00.000000000",
          "2024-01-27T07:00:00.000000000",
          "2024-01-27T08:00:00.000000000",
          "2024-01-27T09:00:00.000000000",
          "2024-01-27T10:00:00.000000000",
          "2024-01-27T11:00:00.000000000",
          "2024-01-27T12:00:00.000000000",
          "2024-01-27T13:00:00.000000000",
          "2024-01-27T14:00:00.000000000",
          "2024-01-27T15:00:00.000000000",
          "2024-01-27T16:00:00.000000000",
          "2024-01-27T17:00:00.000000000",
          "2024-01-27T18:00:00.000000000",
          "2024-01-27T19:00:00.000000000",
          "2024-01-27T20:00:00.000000000",
          "2024-01-27T21:00:00.000000000",
          "2024-01-27T22:00:00.000000000",
          "2024-01-27T23:00:00.000000000",
          "2024-01-28T00:00:00.000000000",
          "2024-01-28T01:00:00.000000000",
          "2024-01-28T02:00:00.000000000",
          "2024-01-28T03:00:00.000000000",
          "2024-01-28T04:00:00.000000000",
          "2024-01-28T05:00:00.000000000",
          "2024-01-28T06:00:00.000000000",
          "2024-01-28T07:00:00.000000000",
          "2024-01-28T08:00:00.000000000",
          "2024-01-28T09:00:00.000000000",
          "2024-01-28T10:00:00.000000000",
          "2024-01-28T11:00:00.000000000",
          "2024-01-28T12:00:00.000000000",
          "2024-01-28T13:00:00.000000000",
          "2024-01-28T14:00:00.000000000",
          "2024-01-28T15:00:00.000000000",
          "2024-01-28T16:00:00.000000000",
          "2024-01-28T17:00:00.000000000",
          "2024-01-28T18:00:00.000000000",
          "2024-01-28T19:00:00.000000000",
          "2024-01-28T20:00:00.000000000",
          "2024-01-28T21:00:00.000000000",
          "2024-01-28T22:00:00.000000000",
          "2024-01-28T23:00:00.000000000",
          "2024-01-29T00:00:00.000000000",
          "2024-01-29T01:00:00.000000000",
          "2024-01-29T02:00:00.000000000",
          "2024-01-29T03:00:00.000000000",
          "2024-01-29T04:00:00.000000000",
          "2024-01-29T05:00:00.000000000",
          "2024-01-29T06:00:00.000000000",
          "2024-01-29T07:00:00.000000000",
          "2024-01-29T08:00:00.000000000",
          "2024-01-29T09:00:00.000000000",
          "2024-01-29T10:00:00.000000000",
          "2024-01-29T11:00:00.000000000",
          "2024-01-29T12:00:00.000000000",
          "2024-01-29T13:00:00.000000000",
          "2024-01-29T14:00:00.000000000",
          "2024-01-29T15:00:00.000000000",
          "2024-01-29T16:00:00.000000000",
          "2024-01-29T17:00:00.000000000",
          "2024-01-29T18:00:00.000000000",
          "2024-01-29T19:00:00.000000000",
          "2024-01-29T20:00:00.000000000",
          "2024-01-29T21:00:00.000000000",
          "2024-01-29T22:00:00.000000000",
          "2024-01-29T23:00:00.000000000",
          "2024-01-30T00:00:00.000000000",
          "2024-01-30T01:00:00.000000000",
          "2024-01-30T02:00:00.000000000",
          "2024-01-30T03:00:00.000000000",
          "2024-01-30T04:00:00.000000000",
          "2024-01-30T05:00:00.000000000",
          "2024-01-30T06:00:00.000000000",
          "2024-01-30T07:00:00.000000000",
          "2024-01-30T08:00:00.000000000",
          "2024-01-30T09:00:00.000000000",
          "2024-01-30T10:00:00.000000000",
          "2024-01-30T11:00:00.000000000",
          "2024-01-30T12:00:00.000000000",
          "2024-01-30T13:00:00.000000000",
          "2024-01-30T14:00:00.000000000",
          "2024-01-30T15:00:00.000000000",
          "2024-01-30T16:00:00.000000000",
          "2024-01-30T17:00:00.000000000",
          "2024-01-30T18:00:00.000000000",
          "2024-01-30T19:00:00.000000000",
          "2024-01-30T20:00:00.000000000",
          "2024-01-30T21:00:00.000000000",
          "2024-01-30T22:00:00.000000000",
          "2024-01-30T23:00:00.000000000",
          "2024-01-31T00:00:00.000000000",
          "2024-01-31T01:00:00.000000000",
          "2024-01-31T02:00:00.000000000",
          "2024-01-31T03:00:00.000000000",
          "2024-01-31T04:00:00.000000000",
          "2024-01-31T05:00:00.000000000",
          "2024-01-31T06:00:00.000000000",
          "2024-01-31T07:00:00.000000000",
          "2024-01-31T08:00:00.000000000",
          "2024-01-31T09:00:00.000000000",
          "2024-01-31T10:00:00.000000000",
          "2024-01-31T11:00:00.000000000",
          "2024-01-31T12:00:00.000000000",
          "2024-01-31T13:00:00.000000000",
          "2024-01-31T14:00:00.000000000",
          "2024-01-31T15:00:00.000000000",
          "2024-01-31T16:00:00.000000000",
          "2024-01-31T17:00:00.000000000",
          "2024-01-31T18:00:00.000000000",
          "2024-01-31T19:00:00.000000000",
          "2024-01-31T20:00:00.000000000",
          "2024-01-31T21:00:00.000000000",
          "2024-01-31T22:00:00.000000000",
          "2024-01-31T23:00:00.000000000"
         ],
         "xaxis": "x",
         "y": {
          "bdata": "AAAAAAABBAAAAAAAAAMGAgEEAAAAAAAAAAAAAAABAQMBAAIAAAABBQAABAIAAAAAAAAAAAEAAAEBAQABAwABAgEABAAAAAAAAAAAAAAAAAAAAAABAgACAAICAAEAAAAAAAAAAQAAAAAAAQAAAQAAAgABAAABAAABAAAAAAABAQABAgAAAQABAQEAAAABAAAAAAAAAAEAAAEAAQAAAAEDAwABAgIAAAAAAAAAAAACAAAAAgAAAAADAgABAAAAAAAAAAAAAAAAAAABAAIBAAAAAAEBAAAAAQAAAAAAAAAAAAAAAAABAAMBAQAAAAABAAAAAAAAAQEAAAEAAAAAAAABAAIBAAAAAAAAAAAAAAAAAAAAAQIBAgACAAAFAAEBAAAAAAAAAAAAAAABAAEAAAEAAAEAAAAAAAAAAAAAAAAAAAAAAAAAAAMAAQAAAQEAAAAAAAAAAAACAAEBAAAAAQEDAgIBAgAAAAAAAAEAAAABAAAAAAAAAgACAQIBAAAAAAAAAAAAAAAAAAECAAEAAgAAAAEBAQEAAAAAAAABAAAAAQAAAAAAAwAAAgQBAgAAAQABAAAAAAABAAEAAAAAAQAAAwAAAAIAAAAAAAAAAAAAAAAAAAABAAUAAAABAAAAAAEAAAAAAAIAAAABAAAAAgABAAECAAAAAQAAAAAAAAAAAAAAAQAAAAABAQAAAQAAAAAAAAAAAAABAAAAAAEBAAAAAQACAAAAAAAAAAAAAAAAAAAAAAACAAEAAAEBAAAAAAAAAAAAAAAAAAEAAAAAAAEBAAAAAQAAAAAAAAAAAAABAAEAAAAAAAAAAQIFAAAAAAAAAAAAAAAAAAAAAAAAAAEAAQAAAAIAAAAAAAAAAAEAAAAAAAEBAgACAAMBAQAAAAAAAAAAAAAAAQAAAAAAAQAEAAABAAAAAAAAAAAAAAAAAAAAAAAAAAEAAAAAAQAAAAAAAAAAAAAAAAAAAAAAAAAAAgEEAAAAAAAA",
          "dtype": "i1"
         },
         "yaxis": "y"
        }
       ],
       "layout": {
        "legend": {
         "tracegroupgap": 0
        },
        "template": {
         "data": {
          "bar": [
           {
            "error_x": {
             "color": "#2a3f5f"
            },
            "error_y": {
             "color": "#2a3f5f"
            },
            "marker": {
             "line": {
              "color": "#E5ECF6",
              "width": 0.5
             },
             "pattern": {
              "fillmode": "overlay",
              "size": 10,
              "solidity": 0.2
             }
            },
            "type": "bar"
           }
          ],
          "barpolar": [
           {
            "marker": {
             "line": {
              "color": "#E5ECF6",
              "width": 0.5
             },
             "pattern": {
              "fillmode": "overlay",
              "size": 10,
              "solidity": 0.2
             }
            },
            "type": "barpolar"
           }
          ],
          "carpet": [
           {
            "aaxis": {
             "endlinecolor": "#2a3f5f",
             "gridcolor": "white",
             "linecolor": "white",
             "minorgridcolor": "white",
             "startlinecolor": "#2a3f5f"
            },
            "baxis": {
             "endlinecolor": "#2a3f5f",
             "gridcolor": "white",
             "linecolor": "white",
             "minorgridcolor": "white",
             "startlinecolor": "#2a3f5f"
            },
            "type": "carpet"
           }
          ],
          "choropleth": [
           {
            "colorbar": {
             "outlinewidth": 0,
             "ticks": ""
            },
            "type": "choropleth"
           }
          ],
          "contour": [
           {
            "colorbar": {
             "outlinewidth": 0,
             "ticks": ""
            },
            "colorscale": [
             [
              0,
              "#0d0887"
             ],
             [
              0.1111111111111111,
              "#46039f"
             ],
             [
              0.2222222222222222,
              "#7201a8"
             ],
             [
              0.3333333333333333,
              "#9c179e"
             ],
             [
              0.4444444444444444,
              "#bd3786"
             ],
             [
              0.5555555555555556,
              "#d8576b"
             ],
             [
              0.6666666666666666,
              "#ed7953"
             ],
             [
              0.7777777777777778,
              "#fb9f3a"
             ],
             [
              0.8888888888888888,
              "#fdca26"
             ],
             [
              1,
              "#f0f921"
             ]
            ],
            "type": "contour"
           }
          ],
          "contourcarpet": [
           {
            "colorbar": {
             "outlinewidth": 0,
             "ticks": ""
            },
            "type": "contourcarpet"
           }
          ],
          "heatmap": [
           {
            "colorbar": {
             "outlinewidth": 0,
             "ticks": ""
            },
            "colorscale": [
             [
              0,
              "#0d0887"
             ],
             [
              0.1111111111111111,
              "#46039f"
             ],
             [
              0.2222222222222222,
              "#7201a8"
             ],
             [
              0.3333333333333333,
              "#9c179e"
             ],
             [
              0.4444444444444444,
              "#bd3786"
             ],
             [
              0.5555555555555556,
              "#d8576b"
             ],
             [
              0.6666666666666666,
              "#ed7953"
             ],
             [
              0.7777777777777778,
              "#fb9f3a"
             ],
             [
              0.8888888888888888,
              "#fdca26"
             ],
             [
              1,
              "#f0f921"
             ]
            ],
            "type": "heatmap"
           }
          ],
          "histogram": [
           {
            "marker": {
             "pattern": {
              "fillmode": "overlay",
              "size": 10,
              "solidity": 0.2
             }
            },
            "type": "histogram"
           }
          ],
          "histogram2d": [
           {
            "colorbar": {
             "outlinewidth": 0,
             "ticks": ""
            },
            "colorscale": [
             [
              0,
              "#0d0887"
             ],
             [
              0.1111111111111111,
              "#46039f"
             ],
             [
              0.2222222222222222,
              "#7201a8"
             ],
             [
              0.3333333333333333,
              "#9c179e"
             ],
             [
              0.4444444444444444,
              "#bd3786"
             ],
             [
              0.5555555555555556,
              "#d8576b"
             ],
             [
              0.6666666666666666,
              "#ed7953"
             ],
             [
              0.7777777777777778,
              "#fb9f3a"
             ],
             [
              0.8888888888888888,
              "#fdca26"
             ],
             [
              1,
              "#f0f921"
             ]
            ],
            "type": "histogram2d"
           }
          ],
          "histogram2dcontour": [
           {
            "colorbar": {
             "outlinewidth": 0,
             "ticks": ""
            },
            "colorscale": [
             [
              0,
              "#0d0887"
             ],
             [
              0.1111111111111111,
              "#46039f"
             ],
             [
              0.2222222222222222,
              "#7201a8"
             ],
             [
              0.3333333333333333,
              "#9c179e"
             ],
             [
              0.4444444444444444,
              "#bd3786"
             ],
             [
              0.5555555555555556,
              "#d8576b"
             ],
             [
              0.6666666666666666,
              "#ed7953"
             ],
             [
              0.7777777777777778,
              "#fb9f3a"
             ],
             [
              0.8888888888888888,
              "#fdca26"
             ],
             [
              1,
              "#f0f921"
             ]
            ],
            "type": "histogram2dcontour"
           }
          ],
          "mesh3d": [
           {
            "colorbar": {
             "outlinewidth": 0,
             "ticks": ""
            },
            "type": "mesh3d"
           }
          ],
          "parcoords": [
           {
            "line": {
             "colorbar": {
              "outlinewidth": 0,
              "ticks": ""
             }
            },
            "type": "parcoords"
           }
          ],
          "pie": [
           {
            "automargin": true,
            "type": "pie"
           }
          ],
          "scatter": [
           {
            "fillpattern": {
             "fillmode": "overlay",
             "size": 10,
             "solidity": 0.2
            },
            "type": "scatter"
           }
          ],
          "scatter3d": [
           {
            "line": {
             "colorbar": {
              "outlinewidth": 0,
              "ticks": ""
             }
            },
            "marker": {
             "colorbar": {
              "outlinewidth": 0,
              "ticks": ""
             }
            },
            "type": "scatter3d"
           }
          ],
          "scattercarpet": [
           {
            "marker": {
             "colorbar": {
              "outlinewidth": 0,
              "ticks": ""
             }
            },
            "type": "scattercarpet"
           }
          ],
          "scattergeo": [
           {
            "marker": {
             "colorbar": {
              "outlinewidth": 0,
              "ticks": ""
             }
            },
            "type": "scattergeo"
           }
          ],
          "scattergl": [
           {
            "marker": {
             "colorbar": {
              "outlinewidth": 0,
              "ticks": ""
             }
            },
            "type": "scattergl"
           }
          ],
          "scattermap": [
           {
            "marker": {
             "colorbar": {
              "outlinewidth": 0,
              "ticks": ""
             }
            },
            "type": "scattermap"
           }
          ],
          "scattermapbox": [
           {
            "marker": {
             "colorbar": {
              "outlinewidth": 0,
              "ticks": ""
             }
            },
            "type": "scattermapbox"
           }
          ],
          "scatterpolar": [
           {
            "marker": {
             "colorbar": {
              "outlinewidth": 0,
              "ticks": ""
             }
            },
            "type": "scatterpolar"
           }
          ],
          "scatterpolargl": [
           {
            "marker": {
             "colorbar": {
              "outlinewidth": 0,
              "ticks": ""
             }
            },
            "type": "scatterpolargl"
           }
          ],
          "scatterternary": [
           {
            "marker": {
             "colorbar": {
              "outlinewidth": 0,
              "ticks": ""
             }
            },
            "type": "scatterternary"
           }
          ],
          "surface": [
           {
            "colorbar": {
             "outlinewidth": 0,
             "ticks": ""
            },
            "colorscale": [
             [
              0,
              "#0d0887"
             ],
             [
              0.1111111111111111,
              "#46039f"
             ],
             [
              0.2222222222222222,
              "#7201a8"
             ],
             [
              0.3333333333333333,
              "#9c179e"
             ],
             [
              0.4444444444444444,
              "#bd3786"
             ],
             [
              0.5555555555555556,
              "#d8576b"
             ],
             [
              0.6666666666666666,
              "#ed7953"
             ],
             [
              0.7777777777777778,
              "#fb9f3a"
             ],
             [
              0.8888888888888888,
              "#fdca26"
             ],
             [
              1,
              "#f0f921"
             ]
            ],
            "type": "surface"
           }
          ],
          "table": [
           {
            "cells": {
             "fill": {
              "color": "#EBF0F8"
             },
             "line": {
              "color": "white"
             }
            },
            "header": {
             "fill": {
              "color": "#C8D4E3"
             },
             "line": {
              "color": "white"
             }
            },
            "type": "table"
           }
          ]
         },
         "layout": {
          "annotationdefaults": {
           "arrowcolor": "#2a3f5f",
           "arrowhead": 0,
           "arrowwidth": 1
          },
          "autotypenumbers": "strict",
          "coloraxis": {
           "colorbar": {
            "outlinewidth": 0,
            "ticks": ""
           }
          },
          "colorscale": {
           "diverging": [
            [
             0,
             "#8e0152"
            ],
            [
             0.1,
             "#c51b7d"
            ],
            [
             0.2,
             "#de77ae"
            ],
            [
             0.3,
             "#f1b6da"
            ],
            [
             0.4,
             "#fde0ef"
            ],
            [
             0.5,
             "#f7f7f7"
            ],
            [
             0.6,
             "#e6f5d0"
            ],
            [
             0.7,
             "#b8e186"
            ],
            [
             0.8,
             "#7fbc41"
            ],
            [
             0.9,
             "#4d9221"
            ],
            [
             1,
             "#276419"
            ]
           ],
           "sequential": [
            [
             0,
             "#0d0887"
            ],
            [
             0.1111111111111111,
             "#46039f"
            ],
            [
             0.2222222222222222,
             "#7201a8"
            ],
            [
             0.3333333333333333,
             "#9c179e"
            ],
            [
             0.4444444444444444,
             "#bd3786"
            ],
            [
             0.5555555555555556,
             "#d8576b"
            ],
            [
             0.6666666666666666,
             "#ed7953"
            ],
            [
             0.7777777777777778,
             "#fb9f3a"
            ],
            [
             0.8888888888888888,
             "#fdca26"
            ],
            [
             1,
             "#f0f921"
            ]
           ],
           "sequentialminus": [
            [
             0,
             "#0d0887"
            ],
            [
             0.1111111111111111,
             "#46039f"
            ],
            [
             0.2222222222222222,
             "#7201a8"
            ],
            [
             0.3333333333333333,
             "#9c179e"
            ],
            [
             0.4444444444444444,
             "#bd3786"
            ],
            [
             0.5555555555555556,
             "#d8576b"
            ],
            [
             0.6666666666666666,
             "#ed7953"
            ],
            [
             0.7777777777777778,
             "#fb9f3a"
            ],
            [
             0.8888888888888888,
             "#fdca26"
            ],
            [
             1,
             "#f0f921"
            ]
           ]
          },
          "colorway": [
           "#636efa",
           "#EF553B",
           "#00cc96",
           "#ab63fa",
           "#FFA15A",
           "#19d3f3",
           "#FF6692",
           "#B6E880",
           "#FF97FF",
           "#FECB52"
          ],
          "font": {
           "color": "#2a3f5f"
          },
          "geo": {
           "bgcolor": "white",
           "lakecolor": "white",
           "landcolor": "#E5ECF6",
           "showlakes": true,
           "showland": true,
           "subunitcolor": "white"
          },
          "hoverlabel": {
           "align": "left"
          },
          "hovermode": "closest",
          "mapbox": {
           "style": "light"
          },
          "paper_bgcolor": "white",
          "plot_bgcolor": "#E5ECF6",
          "polar": {
           "angularaxis": {
            "gridcolor": "white",
            "linecolor": "white",
            "ticks": ""
           },
           "bgcolor": "#E5ECF6",
           "radialaxis": {
            "gridcolor": "white",
            "linecolor": "white",
            "ticks": ""
           }
          },
          "scene": {
           "xaxis": {
            "backgroundcolor": "#E5ECF6",
            "gridcolor": "white",
            "gridwidth": 2,
            "linecolor": "white",
            "showbackground": true,
            "ticks": "",
            "zerolinecolor": "white"
           },
           "yaxis": {
            "backgroundcolor": "#E5ECF6",
            "gridcolor": "white",
            "gridwidth": 2,
            "linecolor": "white",
            "showbackground": true,
            "ticks": "",
            "zerolinecolor": "white"
           },
           "zaxis": {
            "backgroundcolor": "#E5ECF6",
            "gridcolor": "white",
            "gridwidth": 2,
            "linecolor": "white",
            "showbackground": true,
            "ticks": "",
            "zerolinecolor": "white"
           }
          },
          "shapedefaults": {
           "line": {
            "color": "#2a3f5f"
           }
          },
          "ternary": {
           "aaxis": {
            "gridcolor": "white",
            "linecolor": "white",
            "ticks": ""
           },
           "baxis": {
            "gridcolor": "white",
            "linecolor": "white",
            "ticks": ""
           },
           "bgcolor": "#E5ECF6",
           "caxis": {
            "gridcolor": "white",
            "linecolor": "white",
            "ticks": ""
           }
          },
          "title": {
           "x": 0.05
          },
          "xaxis": {
           "automargin": true,
           "gridcolor": "white",
           "linecolor": "white",
           "ticks": "",
           "title": {
            "standoff": 15
           },
           "zerolinecolor": "white",
           "zerolinewidth": 2
          },
          "yaxis": {
           "automargin": true,
           "gridcolor": "white",
           "linecolor": "white",
           "ticks": "",
           "title": {
            "standoff": 15
           },
           "zerolinecolor": "white",
           "zerolinewidth": 2
          }
         }
        },
        "title": {
         "text": "Location 1"
        },
        "xaxis": {
         "anchor": "y",
         "domain": [
          0,
          1
         ],
         "title": {
          "text": "pickup_hour"
         }
        },
        "yaxis": {
         "anchor": "x",
         "domain": [
          0,
          1
         ],
         "title": {
          "text": "rides_count"
         }
        }
       }
      }
     },
     "metadata": {},
     "output_type": "display_data"
    }
   ],
   "source": [
    "import plotly.express as px\n",
    "from typing import Optional, List\n",
    "\n",
    "def plot_rides(df:pd.DataFrame, locations: Optional[List[int]] = None):\n",
    "    if locations is None:\n",
    "        locations = df[\"pickup_location_id\"].unique()\n",
    "    for location in locations:\n",
    "        df_location = df[df[\"pickup_location_id\"] == location]\n",
    "        fig = px.line(df_location, x=\"pickup_hour\", y=\"rides_count\", title=f\"Location {location}\")\n",
    "        fig.show()\n",
    "\n",
    "plot_rides(agg_rides_all_slots, [130,1])"
   ]
  },
  {
   "cell_type": "code",
   "execution_count": 12,
   "metadata": {},
   "outputs": [],
   "source": [
    "# agg_rides_all_slots.to_parquet(\"../data/transformed/ts_data_2024_01.parquet\")"
   ]
  }
 ],
 "metadata": {
  "kernelspec": {
   "display_name": "taxi-demand-predictor-FMhEZc6Y-py3.11",
   "language": "python",
   "name": "python3"
  },
  "language_info": {
   "codemirror_mode": {
    "name": "ipython",
    "version": 3
   },
   "file_extension": ".py",
   "mimetype": "text/x-python",
   "name": "python",
   "nbconvert_exporter": "python",
   "pygments_lexer": "ipython3",
   "version": "3.11.11"
  }
 },
 "nbformat": 4,
 "nbformat_minor": 2
}
